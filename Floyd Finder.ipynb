{
 "cells": [
  {
   "cell_type": "markdown",
   "metadata": {},
   "source": [
    "## Imports and matplotlib options"
   ]
  },
  {
   "cell_type": "code",
   "execution_count": 69,
   "metadata": {},
   "outputs": [],
   "source": [
    "import pandas as pd\n",
    "import numpy as np\n",
    "import matplotlib.pyplot as plt\n",
    "import seaborn as sns\n",
    "import os\n",
    "from scipy import stats\n",
    "import pickle\n",
    "\n",
    "import IPython.display as ipd\n",
    "import essentia\n",
    "import essentia.standard as es"
   ]
  },
  {
   "cell_type": "code",
   "execution_count": 2,
   "metadata": {},
   "outputs": [],
   "source": [
    "from sklearn.preprocessing import StandardScaler\n",
    "from sklearn.metrics import f1_score\n",
    "from sklearn.linear_model import LogisticRegression"
   ]
  },
  {
   "cell_type": "code",
   "execution_count": 70,
   "metadata": {},
   "outputs": [
    {
     "name": "stdout",
     "output_type": "stream",
     "text": [
      "Populating the interactive namespace from numpy and matplotlib\n"
     ]
    },
    {
     "name": "stderr",
     "output_type": "stream",
     "text": [
      "/home/bam/anaconda3/lib/python3.7/site-packages/IPython/core/magics/pylab.py:160: UserWarning: pylab import has clobbered these variables: ['f']\n",
      "`%matplotlib` prevents importing * from pylab and numpy\n",
      "  \"\\n`%matplotlib` prevents importing * from pylab and numpy\"\n"
     ]
    }
   ],
   "source": [
    "%pylab inline\n",
    "sns.set()\n",
    "plt.rcParams['figure.figsize'] = (14,5)\n",
    "plt.rcParams.update({'font.size': 20})"
   ]
  },
  {
   "cell_type": "markdown",
   "metadata": {},
   "source": [
    "## Global settings"
   ]
  },
  {
   "cell_type": "code",
   "execution_count": 4,
   "metadata": {},
   "outputs": [],
   "source": [
    "os.chdir('data')"
   ]
  },
  {
   "cell_type": "code",
   "execution_count": 5,
   "metadata": {},
   "outputs": [],
   "source": [
    "sample_rate = 44100\n",
    "samples_per_frame = 4096\n",
    "hop_length = 2048\n",
    "\n",
    "window_type = 'blackmanharris92'\n",
    "\n",
    "peak_params = {'magnitudeThreshold':0.00001,\n",
    "               'minFrequency':40,\n",
    "               'maxFrequency':5000,\n",
    "               'maxPeaks':60}\n",
    "\n",
    "HPCP_params = {'size':36, \n",
    "                'bandPreset':False,\n",
    "                'minFrequency':40,\n",
    "                'maxFrequency':5000,\n",
    "                'nonLinear':True,   \n",
    "                'harmonics':8,\n",
    "                'windowSize':1.33} \n",
    "\n",
    "key_params = {'profileType':'shaath',  \n",
    "             'numHarmonics':8,         \n",
    "             'pcpSize':36,\n",
    "             'slope':0.6,\n",
    "             'usePolyphony':True,\n",
    "             'useThreeChords':True}\n",
    "\n",
    "secs_per_frame = samples_per_frame / sample_rate"
   ]
  },
  {
   "cell_type": "markdown",
   "metadata": {},
   "source": [
    "## Extract Features"
   ]
  },
  {
   "cell_type": "code",
   "execution_count": 6,
   "metadata": {},
   "outputs": [],
   "source": [
    "def gen_frames(filepath):\n",
    "    \"\"\"Cuts audio into many frames\"\"\"\n",
    "    # Convert file to mono raw audio\n",
    "    audio = es.MonoLoader(filename=filepath, sampleRate=sample_rate)()\n",
    "    \n",
    "    # Cut audio into frames and expand them into windowed frames for better processing\n",
    "    frame_gen = es.FrameGenerator(audio, frameSize=samples_per_frame, hopSize=hop_length)\n",
    "    frames = np.array([es.Windowing(size=samples_per_frame, type=window_type)(frame)\n",
    "                            for frame in frame_gen])\n",
    "    \n",
    "    return frames"
   ]
  },
  {
   "cell_type": "markdown",
   "metadata": {},
   "source": [
    "### Spectral information"
   ]
  },
  {
   "cell_type": "code",
   "execution_count": 7,
   "metadata": {},
   "outputs": [],
   "source": [
    "def get_spectral_info(frame):\n",
    "    \"\"\"Gets spectrum frequencies and their magnitudes for a single frame\"\"\"\n",
    "    spectrum = es.Spectrum(size=samples_per_frame)(frame)\n",
    "    freqs, mags = es.SpectralPeaks(**peak_params)(spectrum)\n",
    "    mags = es.SpectralWhitening()(spectrum, freqs, mags)\n",
    "    return spectrum, freqs, mags"
   ]
  },
  {
   "cell_type": "markdown",
   "metadata": {},
   "source": [
    "### Harmonic Pitch Class Profile (HPCP)"
   ]
  },
  {
   "cell_type": "code",
   "execution_count": 8,
   "metadata": {},
   "outputs": [],
   "source": [
    "def gen_frame_HPCP(spectral_info):\n",
    "    \"\"\"Generates HPCP for a single frame\"\"\"\n",
    "    spectrum, freqs, mags = spectral_info\n",
    "    return es.HPCP(**HPCP_params)(freqs, mags)"
   ]
  },
  {
   "cell_type": "code",
   "execution_count": 9,
   "metadata": {},
   "outputs": [],
   "source": [
    "def gen_global_HPCP(frames):\n",
    "    \"\"\"Stitches together frame-based HPCPs into full HPCP\"\"\"\n",
    "    return np.array([gen_frame_HPCP(get_spectral_info(frame)) for frame in frames])"
   ]
  },
  {
   "cell_type": "markdown",
   "metadata": {},
   "source": [
    "### Key"
   ]
  },
  {
   "cell_type": "code",
   "execution_count": 10,
   "metadata": {},
   "outputs": [],
   "source": [
    "def get_key_attrs(hpcp):\n",
    "    \"\"\"Gets key and scale info from HPCP\"\"\"\n",
    "    return es.Key(**key_params)(np.mean(hpcp, axis=0))"
   ]
  },
  {
   "cell_type": "markdown",
   "metadata": {},
   "source": [
    "### Beat ticks"
   ]
  },
  {
   "cell_type": "code",
   "execution_count": 11,
   "metadata": {},
   "outputs": [],
   "source": [
    "def get_beats(filepath):\n",
    "    \"\"\"Gets beat locations by sample number, as well as global BPM\"\"\"\n",
    "    audio = es.MonoLoader(filename=filepath, sampleRate=sample_rate)()\n",
    "    return es.RhythmExtractor2013(method='multifeature')(audio)"
   ]
  },
  {
   "cell_type": "markdown",
   "metadata": {},
   "source": [
    "### Scale HPCP to per-beat"
   ]
  },
  {
   "cell_type": "code",
   "execution_count": 12,
   "metadata": {},
   "outputs": [],
   "source": [
    "def gen_beat_HPCP(ticks, hpcp):\n",
    "    \"\"\"Converts HPCP from one entry per frame to one entry per beat.\n",
    "    Each entry is the average of the per-frame values in the corresponding beat interval.\"\"\"\n",
    "    \n",
    "    # 2x adjustment needed to adjust for windowing making each frame twice as large\n",
    "    frame_ticks = 2 * ticks / secs_per_frame\n",
    "    \n",
    "    def average_HPCP_frames(start_frame, end_frame, hpcp):\n",
    "        return np.mean(hpcp[int(start_frame): int(end_frame)], axis=0)\n",
    "    \n",
    "    adjusted_hpcp = []\n",
    "    prev_frame = 0\n",
    "    for frame_num in frame_ticks:\n",
    "        adjusted_hpcp.append(average_HPCP_frames(prev_frame, frame_num, hpcp))\n",
    "        prev_frame = frame_num\n",
    "    \n",
    "    return np.array(adjusted_hpcp)"
   ]
  },
  {
   "cell_type": "markdown",
   "metadata": {},
   "source": [
    "## Get features from HPCP"
   ]
  },
  {
   "cell_type": "code",
   "execution_count": 13,
   "metadata": {},
   "outputs": [],
   "source": [
    "def calc_means(hpcp):\n",
    "    \"\"\"Arithmetic mean, geometric mean, and median for all semitones in HPCP\"\"\"\n",
    "    ameans = np.mean(hpcp, axis=0)\n",
    "    medians = np.median(hpcp, axis=0)\n",
    "    gmeans = stats.gmean(hpcp, axis=0)\n",
    "    \n",
    "    return ameans, gmeans, medians"
   ]
  },
  {
   "cell_type": "markdown",
   "metadata": {},
   "source": [
    "## Extract all the features for one song"
   ]
  },
  {
   "cell_type": "code",
   "execution_count": 14,
   "metadata": {},
   "outputs": [],
   "source": [
    "def song_dict(filepath, semitone_offset=0, save_hpcp=False):\n",
    "    \"\"\"Collects all information from a single song\"\"\"\n",
    "    \n",
    "    # Gather all of the info\n",
    "    frames = gen_frames(filepath)\n",
    "    global_hpcp = gen_global_HPCP(frames)\n",
    "    \n",
    "    global_hpcp = np.roll(global_hpcp, semitone_offset, axis=1)\n",
    "    \n",
    "    key, scale, strength, rel_strength = get_key_attrs(global_hpcp)\n",
    "    bpm, ticks, confidence, estimates, intervals = get_beats(filepath)\n",
    "    adj_hpcp = gen_beat_HPCP(ticks, global_hpcp)\n",
    "    ameans, gmeans, medians = calc_means(adj_hpcp)\n",
    "    all_means = (ameans, gmeans, medians)\n",
    "    \n",
    "    # Format info and put into dict\n",
    "    mean_names = ['amean', 'gmean', 'median']\n",
    "    \n",
    "    song_stats = dict()\n",
    "    song_stats['title'] = filepath.split(sep='/')[-1][:-4]\n",
    "    \n",
    "    if len(filepath.split(sep='/')) > 1:\n",
    "        song_stats['album'] = filepath.split(sep='/')[-2]\n",
    "    else:\n",
    "        song_stats['album'] = 'unknown'\n",
    "        \n",
    "    song_stats['filepath'] = filepath[:-4]\n",
    "    song_stats['semitone_offset'] = semitone_offset\n",
    "    song_stats['bpm'] = bpm\n",
    "    song_stats['key'] = key\n",
    "    song_stats['scale'] = scale\n",
    "    song_stats['total_beats'] = int(adj_hpcp.shape[0])\n",
    "    \n",
    "    # Add means and median for each semitone\n",
    "    for mean_num in range(len(mean_names)):\n",
    "        for semitone in range(adj_hpcp.shape[1]):\n",
    "            mean_type = mean_names[mean_num]\n",
    "            song_stats['semitone_%s_%d' % (mean_type, semitone)] = all_means[mean_num][semitone]\n",
    "    if save_hpcp:        \n",
    "        song_stats['hpcp'] = adj_hpcp\n",
    "    \n",
    "    return song_stats"
   ]
  },
  {
   "cell_type": "markdown",
   "metadata": {},
   "source": [
    "## Data visualization"
   ]
  },
  {
   "cell_type": "code",
   "execution_count": 15,
   "metadata": {},
   "outputs": [],
   "source": [
    "def show_stats(song_stats, show_path=False):\n",
    "    \"\"\"Shows song information and HPCP\"\"\"\n",
    "    \n",
    "    if show_path:\n",
    "        print('Title:', song_stats['title'])\n",
    "    print('BPM:', song_stats['bpm'])\n",
    "    print('Key:', song_stats['key'])\n",
    "    print('Scale:', song_stats['scale'])\n",
    "    \n",
    "    imshow(song_stats['hpcp'].T, aspect='auto', origin='lower', interpolation='none', cmap='viridis')\n",
    "    plt.ylabel('Pitch', size=20)\n",
    "    plt.xlabel('Beat Number', size=20)\n",
    "    plt.title('Harmonic Pitch Class Profile\\n(y==0 corresponds to the note A flat)')\n",
    "    plt.grid(b=None)\n",
    "    plt.show();"
   ]
  },
  {
   "cell_type": "markdown",
   "metadata": {},
   "source": [
    "# [Go here to load training, validation, and test DataFrames](#Load-pickles)"
   ]
  },
  {
   "cell_type": "markdown",
   "metadata": {},
   "source": [
    "# Get training/validation/test data\n",
    "### TODO: Functionalize and clean"
   ]
  },
  {
   "cell_type": "markdown",
   "metadata": {},
   "source": [
    "# Get all training data (will take a LONG time and about 12 gigs of RAM)"
   ]
  },
  {
   "cell_type": "code",
   "execution_count": null,
   "metadata": {},
   "outputs": [],
   "source": [
    "for folderName, subfolders, filenames in os.walk('./prototypes'):\n",
    "    print('The current folder is ' + folderName)\n",
    "    album_dict = dict()\n",
    "    for subfolder in subfolders:\n",
    "        print('SUBFOLDER OF ' + folderName + ': ' + subfolder)\n",
    "        \n",
    "    for filename in filenames:\n",
    "        print('FILE INSIDE ' + folderName + ': '+ filename)\n",
    "        \n",
    "        for offset in range(5):\n",
    "            album_dict[filename[:-4] + 'offset ', str(offset - 2)] = song_dict(os.path.join(folderName, filename)\n",
    "                                                                              , offset - 2)\n",
    "    print('Saving', folderName, 'pickle.')\n",
    "    \n",
    "    with open('%s_dict.pkl' % folderName, 'wb') as f:\n",
    "        pickle.dump(album_dict, f)\n",
    "    \n",
    "    print('')"
   ]
  },
  {
   "cell_type": "markdown",
   "metadata": {},
   "source": [
    "## Compile extracted features from each album into a DataFrame"
   ]
  },
  {
   "cell_type": "code",
   "execution_count": 25,
   "metadata": {},
   "outputs": [
    {
     "data": {
      "text/plain": [
       "'/home/bam/metis/projects/project_3/data'"
      ]
     },
     "execution_count": 25,
     "metadata": {},
     "output_type": "execute_result"
    }
   ],
   "source": [
    "os.getcwd()"
   ]
  },
  {
   "cell_type": "code",
   "execution_count": 26,
   "metadata": {},
   "outputs": [],
   "source": [
    "os.chdir('./training')"
   ]
  },
  {
   "cell_type": "code",
   "execution_count": 27,
   "metadata": {
    "scrolled": true
   },
   "outputs": [
    {
     "name": "stdout",
     "output_type": "stream",
     "text": [
      "'A Momentary Lapse of Reason_dict.pkl'\r\n",
      " Animals_dict.pkl\r\n",
      "'A Saucerful of Secrets_dict.pkl'\r\n",
      "'Atom Heart Mother_dict.pkl'\r\n",
      " Meddle_dict.pkl\r\n",
      " More_dict.pkl\r\n",
      "'Obscured by Clouds_dict.pkl'\r\n",
      "'The Dark Side of the Moon_dict.pkl'\r\n",
      "'The Division Bell_dict.pkl'\r\n",
      "'The Final Cut_dict.pkl'\r\n",
      "'The Piper at the Gates of Dawn_dict.pkl'\r\n",
      "'The Wall_dict.pkl'\r\n",
      " Ummagumma_dict.pkl\r\n",
      "'Wish You Were Here_dict.pkl'\r\n"
     ]
    }
   ],
   "source": [
    "!ls"
   ]
  },
  {
   "cell_type": "code",
   "execution_count": 28,
   "metadata": {},
   "outputs": [],
   "source": [
    "with open('A Momentary Lapse of Reason_dict.pkl', 'rb') as f:\n",
    "    AMLOR_dict = pickle.load(f)"
   ]
  },
  {
   "cell_type": "code",
   "execution_count": 29,
   "metadata": {},
   "outputs": [],
   "source": [
    "all_songs = pd.DataFrame.from_dict(AMLOR_dict, orient='index')\n",
    "file_list = !ls"
   ]
  },
  {
   "cell_type": "code",
   "execution_count": 30,
   "metadata": {},
   "outputs": [
    {
     "data": {
      "text/html": [
       "<div>\n",
       "<style scoped>\n",
       "    .dataframe tbody tr th:only-of-type {\n",
       "        vertical-align: middle;\n",
       "    }\n",
       "\n",
       "    .dataframe tbody tr th {\n",
       "        vertical-align: top;\n",
       "    }\n",
       "\n",
       "    .dataframe thead th {\n",
       "        text-align: right;\n",
       "    }\n",
       "</style>\n",
       "<table border=\"1\" class=\"dataframe\">\n",
       "  <thead>\n",
       "    <tr style=\"text-align: right;\">\n",
       "      <th></th>\n",
       "      <th>title</th>\n",
       "      <th>album</th>\n",
       "      <th>filepath</th>\n",
       "      <th>semitone_offset</th>\n",
       "      <th>bpm</th>\n",
       "      <th>key</th>\n",
       "      <th>scale</th>\n",
       "      <th>total_beats</th>\n",
       "      <th>semitone_amean_0</th>\n",
       "      <th>semitone_amean_1</th>\n",
       "      <th>...</th>\n",
       "      <th>semitone_median_26</th>\n",
       "      <th>semitone_median_27</th>\n",
       "      <th>semitone_median_28</th>\n",
       "      <th>semitone_median_29</th>\n",
       "      <th>semitone_median_30</th>\n",
       "      <th>semitone_median_31</th>\n",
       "      <th>semitone_median_32</th>\n",
       "      <th>semitone_median_33</th>\n",
       "      <th>semitone_median_34</th>\n",
       "      <th>semitone_median_35</th>\n",
       "    </tr>\n",
       "  </thead>\n",
       "  <tbody>\n",
       "    <tr>\n",
       "      <th>0</th>\n",
       "      <td>A New Machine (Part 1)</td>\n",
       "      <td>A Momentary Lapse of Reason</td>\n",
       "      <td>./prototypes/A Momentary Lapse of Reason/A New...</td>\n",
       "      <td>-1</td>\n",
       "      <td>135.759918</td>\n",
       "      <td>B</td>\n",
       "      <td>minor</td>\n",
       "      <td>219</td>\n",
       "      <td>0.015184</td>\n",
       "      <td>0.031082</td>\n",
       "      <td>...</td>\n",
       "      <td>0.000060</td>\n",
       "      <td>0.005635</td>\n",
       "      <td>0.355759</td>\n",
       "      <td>0.542594</td>\n",
       "      <td>0.082526</td>\n",
       "      <td>0.002468</td>\n",
       "      <td>0.001095</td>\n",
       "      <td>0.000131</td>\n",
       "      <td>0.000163</td>\n",
       "      <td>0.000601</td>\n",
       "    </tr>\n",
       "    <tr>\n",
       "      <th>1</th>\n",
       "      <td>A New Machine (Part 1)</td>\n",
       "      <td>A Momentary Lapse of Reason</td>\n",
       "      <td>./prototypes/A Momentary Lapse of Reason/A New...</td>\n",
       "      <td>-2</td>\n",
       "      <td>135.759918</td>\n",
       "      <td>B</td>\n",
       "      <td>minor</td>\n",
       "      <td>219</td>\n",
       "      <td>0.031082</td>\n",
       "      <td>0.026377</td>\n",
       "      <td>...</td>\n",
       "      <td>0.005635</td>\n",
       "      <td>0.355759</td>\n",
       "      <td>0.542594</td>\n",
       "      <td>0.082526</td>\n",
       "      <td>0.002468</td>\n",
       "      <td>0.001095</td>\n",
       "      <td>0.000131</td>\n",
       "      <td>0.000163</td>\n",
       "      <td>0.000601</td>\n",
       "      <td>0.000885</td>\n",
       "    </tr>\n",
       "    <tr>\n",
       "      <th>2</th>\n",
       "      <td>A New Machine (Part 1)</td>\n",
       "      <td>A Momentary Lapse of Reason</td>\n",
       "      <td>./prototypes/A Momentary Lapse of Reason/A New...</td>\n",
       "      <td>0</td>\n",
       "      <td>135.759918</td>\n",
       "      <td>C</td>\n",
       "      <td>minor</td>\n",
       "      <td>219</td>\n",
       "      <td>0.009655</td>\n",
       "      <td>0.015184</td>\n",
       "      <td>...</td>\n",
       "      <td>0.000108</td>\n",
       "      <td>0.000060</td>\n",
       "      <td>0.005635</td>\n",
       "      <td>0.355759</td>\n",
       "      <td>0.542594</td>\n",
       "      <td>0.082526</td>\n",
       "      <td>0.002468</td>\n",
       "      <td>0.001095</td>\n",
       "      <td>0.000131</td>\n",
       "      <td>0.000163</td>\n",
       "    </tr>\n",
       "    <tr>\n",
       "      <th>3</th>\n",
       "      <td>A New Machine (Part 1)</td>\n",
       "      <td>A Momentary Lapse of Reason</td>\n",
       "      <td>./prototypes/A Momentary Lapse of Reason/A New...</td>\n",
       "      <td>1</td>\n",
       "      <td>135.759918</td>\n",
       "      <td>C</td>\n",
       "      <td>minor</td>\n",
       "      <td>219</td>\n",
       "      <td>0.009816</td>\n",
       "      <td>0.009655</td>\n",
       "      <td>...</td>\n",
       "      <td>0.001509</td>\n",
       "      <td>0.000108</td>\n",
       "      <td>0.000060</td>\n",
       "      <td>0.005635</td>\n",
       "      <td>0.355759</td>\n",
       "      <td>0.542594</td>\n",
       "      <td>0.082526</td>\n",
       "      <td>0.002468</td>\n",
       "      <td>0.001095</td>\n",
       "      <td>0.000131</td>\n",
       "    </tr>\n",
       "    <tr>\n",
       "      <th>4</th>\n",
       "      <td>A New Machine (Part 1)</td>\n",
       "      <td>A Momentary Lapse of Reason</td>\n",
       "      <td>./prototypes/A Momentary Lapse of Reason/A New...</td>\n",
       "      <td>2</td>\n",
       "      <td>135.759918</td>\n",
       "      <td>C</td>\n",
       "      <td>minor</td>\n",
       "      <td>219</td>\n",
       "      <td>0.008938</td>\n",
       "      <td>0.009816</td>\n",
       "      <td>...</td>\n",
       "      <td>0.031911</td>\n",
       "      <td>0.001509</td>\n",
       "      <td>0.000108</td>\n",
       "      <td>0.000060</td>\n",
       "      <td>0.005635</td>\n",
       "      <td>0.355759</td>\n",
       "      <td>0.542594</td>\n",
       "      <td>0.082526</td>\n",
       "      <td>0.002468</td>\n",
       "      <td>0.001095</td>\n",
       "    </tr>\n",
       "  </tbody>\n",
       "</table>\n",
       "<p>5 rows × 116 columns</p>\n",
       "</div>"
      ],
      "text/plain": [
       "                    title                        album  \\\n",
       "0  A New Machine (Part 1)  A Momentary Lapse of Reason   \n",
       "1  A New Machine (Part 1)  A Momentary Lapse of Reason   \n",
       "2  A New Machine (Part 1)  A Momentary Lapse of Reason   \n",
       "3  A New Machine (Part 1)  A Momentary Lapse of Reason   \n",
       "4  A New Machine (Part 1)  A Momentary Lapse of Reason   \n",
       "\n",
       "                                            filepath  semitone_offset  \\\n",
       "0  ./prototypes/A Momentary Lapse of Reason/A New...               -1   \n",
       "1  ./prototypes/A Momentary Lapse of Reason/A New...               -2   \n",
       "2  ./prototypes/A Momentary Lapse of Reason/A New...                0   \n",
       "3  ./prototypes/A Momentary Lapse of Reason/A New...                1   \n",
       "4  ./prototypes/A Momentary Lapse of Reason/A New...                2   \n",
       "\n",
       "          bpm key  scale  total_beats  semitone_amean_0  semitone_amean_1  \\\n",
       "0  135.759918   B  minor          219          0.015184          0.031082   \n",
       "1  135.759918   B  minor          219          0.031082          0.026377   \n",
       "2  135.759918   C  minor          219          0.009655          0.015184   \n",
       "3  135.759918   C  minor          219          0.009816          0.009655   \n",
       "4  135.759918   C  minor          219          0.008938          0.009816   \n",
       "\n",
       "   ...  semitone_median_26  semitone_median_27  semitone_median_28  \\\n",
       "0  ...            0.000060            0.005635            0.355759   \n",
       "1  ...            0.005635            0.355759            0.542594   \n",
       "2  ...            0.000108            0.000060            0.005635   \n",
       "3  ...            0.001509            0.000108            0.000060   \n",
       "4  ...            0.031911            0.001509            0.000108   \n",
       "\n",
       "   semitone_median_29  semitone_median_30  semitone_median_31  \\\n",
       "0            0.542594            0.082526            0.002468   \n",
       "1            0.082526            0.002468            0.001095   \n",
       "2            0.355759            0.542594            0.082526   \n",
       "3            0.005635            0.355759            0.542594   \n",
       "4            0.000060            0.005635            0.355759   \n",
       "\n",
       "   semitone_median_32  semitone_median_33  semitone_median_34  \\\n",
       "0            0.001095            0.000131            0.000163   \n",
       "1            0.000131            0.000163            0.000601   \n",
       "2            0.002468            0.001095            0.000131   \n",
       "3            0.082526            0.002468            0.001095   \n",
       "4            0.542594            0.082526            0.002468   \n",
       "\n",
       "   semitone_median_35  \n",
       "0            0.000601  \n",
       "1            0.000885  \n",
       "2            0.000163  \n",
       "3            0.000131  \n",
       "4            0.001095  \n",
       "\n",
       "[5 rows x 116 columns]"
      ]
     },
     "execution_count": 30,
     "metadata": {},
     "output_type": "execute_result"
    }
   ],
   "source": [
    "for file in file_list[1:]:\n",
    "    if file.endswith('.pkl'):\n",
    "        with open(file, 'rb') as f:\n",
    "            album_dict = pickle.load(f)\n",
    "            all_songs = all_songs.append(pd.DataFrame.from_dict(album_dict, orient='index'), ignore_index=True)\n",
    "            f.close()\n",
    "\n",
    "all_songs.head()"
   ]
  },
  {
   "cell_type": "code",
   "execution_count": 31,
   "metadata": {},
   "outputs": [
    {
     "data": {
      "text/plain": [
       "'/home/bam/metis/projects/project_3/data'"
      ]
     },
     "execution_count": 31,
     "metadata": {},
     "output_type": "execute_result"
    }
   ],
   "source": [
    "os.chdir('../')\n",
    "os.getcwd()"
   ]
  },
  {
   "cell_type": "code",
   "execution_count": 32,
   "metadata": {},
   "outputs": [],
   "source": [
    "with open('all_songs.pkl', 'wb') as f:\n",
    "    pickle.dump(all_songs, f)"
   ]
  },
  {
   "cell_type": "markdown",
   "metadata": {},
   "source": [
    "# Get data from validation"
   ]
  },
  {
   "cell_type": "code",
   "execution_count": 68,
   "metadata": {},
   "outputs": [
    {
     "data": {
      "text/plain": [
       "'/home/bam/metis/projects/project_3/data'"
      ]
     },
     "execution_count": 68,
     "metadata": {},
     "output_type": "execute_result"
    }
   ],
   "source": [
    "os.getcwd()"
   ]
  },
  {
   "cell_type": "code",
   "execution_count": 69,
   "metadata": {},
   "outputs": [],
   "source": [
    "os.chdir('./validation')"
   ]
  },
  {
   "cell_type": "code",
   "execution_count": 18,
   "metadata": {},
   "outputs": [],
   "source": [
    "def conv_folder_to_pkls():\n",
    "    \n",
    "    for folderName, subfolders, filenames in os.walk('.'):\n",
    "        print('The current folder is ' + folderName)\n",
    "        album_dict = dict()\n",
    "        \n",
    "        for subfolder in subfolders:\n",
    "            print('SUBFOLDER OF ' + folderName + ': ' + subfolder)\n",
    "\n",
    "        for filename in filenames:\n",
    "            print('FILE INSIDE ' + folderName + ': '+ filename)\n",
    "\n",
    "            if filename.endswith('.mp3'):\n",
    "                album_dict[filename[:-4]] = song_dict(os.path.join(folderName, filename))\n",
    "                \n",
    "        print('Saving', folderName, 'pickle.')\n",
    "        with open('%s_dict.pkl' % folderName, 'wb') as f:\n",
    "            pickle.dump(album_dict, f)\n",
    "    \n",
    "    print('All Folders Pickled')"
   ]
  },
  {
   "cell_type": "code",
   "execution_count": 83,
   "metadata": {
    "scrolled": false
   },
   "outputs": [
    {
     "name": "stdout",
     "output_type": "stream",
     "text": [
      "The current folder is .\n",
      "SUBFOLDER OF .: 1972 - Sapporo, Japan (3-12-72)\n",
      "FILE INSIDE .: 1995 - Pulse (Live)_dict.pkl\n",
      "FILE INSIDE .: ._dict.pkl\n",
      "FILE INSIDE .: Pepperland In The West (Disc 1)_dict.pkl\n",
      "FILE INSIDE .: Pepperland In The West (Disc 2)_dict.pkl\n",
      "FILE INSIDE .: 1974 - Getting Better All the Time (11-17-74)_dict.pkl\n",
      "FILE INSIDE .: 1977 - Mr. Pig (Oakland, CA) 5-9-77_dict.pkl\n",
      "FILE INSIDE .: 1975 - Ivor Wynne (6-28-75)_dict.pkl\n",
      "FILE INSIDE .: Is There Anybody Out There (The Wall Li_dict.pkl\n",
      "FILE INSIDE .: 1988 - Delicate Sound of Thunder_dict.pkl\n",
      "FILE INSIDE .: Eclipse_dict.pkl\n",
      "Saving . pickle.\n",
      "The current folder is ./1972 - Sapporo, Japan (3-12-72)\n",
      "FILE INSIDE ./1972 - Sapporo, Japan (3-12-72): Speak to Me & Breathe.mp3\n",
      "FILE INSIDE ./1972 - Sapporo, Japan (3-12-72): Any Colour You Like.mp3\n",
      "FILE INSIDE ./1972 - Sapporo, Japan (3-12-72): Eclipse.mp3\n",
      "FILE INSIDE ./1972 - Sapporo, Japan (3-12-72): Us and Them.mp3\n",
      "FILE INSIDE ./1972 - Sapporo, Japan (3-12-72): Brain Damage.mp3\n",
      "FILE INSIDE ./1972 - Sapporo, Japan (3-12-72): The Great Gig in the Sky.mp3\n",
      "FILE INSIDE ./1972 - Sapporo, Japan (3-12-72): Money.mp3\n",
      "FILE INSIDE ./1972 - Sapporo, Japan (3-12-72): One of These Days.mp3\n",
      "FILE INSIDE ./1972 - Sapporo, Japan (3-12-72): Time.mp3\n",
      "FILE INSIDE ./1972 - Sapporo, Japan (3-12-72): On the Run.mp3\n",
      "FILE INSIDE ./1972 - Sapporo, Japan (3-12-72): Careful With That Axe, Eugene.mp3\n",
      "Saving ./1972 - Sapporo, Japan (3-12-72) pickle.\n",
      "All Folders Pickled\n"
     ]
    },
    {
     "name": "stderr",
     "output_type": "stream",
     "text": [
      "/home/bam/anaconda3/lib/python3.7/site-packages/scipy/stats/stats.py:316: RuntimeWarning: divide by zero encountered in log\n",
      "  log_a = np.log(a)\n"
     ]
    }
   ],
   "source": [
    "conv_folder_to_pkls()"
   ]
  },
  {
   "cell_type": "code",
   "execution_count": 84,
   "metadata": {},
   "outputs": [
    {
     "data": {
      "text/plain": [
       "'/home/bam/metis/projects/project_3/data/validation'"
      ]
     },
     "execution_count": 84,
     "metadata": {},
     "output_type": "execute_result"
    }
   ],
   "source": [
    "os.getcwd()"
   ]
  },
  {
   "cell_type": "code",
   "execution_count": 85,
   "metadata": {
    "scrolled": false
   },
   "outputs": [
    {
     "name": "stdout",
     "output_type": "stream",
     "text": [
      "'1972 - Sapporo, Japan (3-12-72)'\r\n",
      "'1972 - Sapporo, Japan (3-12-72)_dict.pkl'\r\n",
      "'1974 - Getting Better All the Time (11-17-74)_dict.pkl'\r\n",
      "'1975 - Ivor Wynne (6-28-75)_dict.pkl'\r\n",
      "'1977 - Mr. Pig (Oakland, CA) 5-9-77_dict.pkl'\r\n",
      "'1988 - Delicate Sound of Thunder_dict.pkl'\r\n",
      "'1995 - Pulse (Live)_dict.pkl'\r\n",
      " Eclipse_dict.pkl\r\n",
      "'Is There Anybody Out There (The Wall Li_dict.pkl'\r\n",
      "'Pepperland In The West (Disc 1)_dict.pkl'\r\n",
      "'Pepperland In The West (Disc 2)_dict.pkl'\r\n"
     ]
    }
   ],
   "source": [
    "!ls"
   ]
  },
  {
   "cell_type": "code",
   "execution_count": 89,
   "metadata": {},
   "outputs": [],
   "source": [
    "file_list = !ls"
   ]
  },
  {
   "cell_type": "code",
   "execution_count": 90,
   "metadata": {},
   "outputs": [],
   "source": [
    "with open(file_list[0], 'rb') as f:\n",
    "    first_album_dict = pickle.load(f)"
   ]
  },
  {
   "cell_type": "code",
   "execution_count": 91,
   "metadata": {},
   "outputs": [],
   "source": [
    "val_df = pd.DataFrame.from_dict(first_album_dict, orient='index')"
   ]
  },
  {
   "cell_type": "code",
   "execution_count": 92,
   "metadata": {},
   "outputs": [
    {
     "data": {
      "text/html": [
       "<div>\n",
       "<style scoped>\n",
       "    .dataframe tbody tr th:only-of-type {\n",
       "        vertical-align: middle;\n",
       "    }\n",
       "\n",
       "    .dataframe tbody tr th {\n",
       "        vertical-align: top;\n",
       "    }\n",
       "\n",
       "    .dataframe thead th {\n",
       "        text-align: right;\n",
       "    }\n",
       "</style>\n",
       "<table border=\"1\" class=\"dataframe\">\n",
       "  <thead>\n",
       "    <tr style=\"text-align: right;\">\n",
       "      <th></th>\n",
       "      <th>title</th>\n",
       "      <th>album</th>\n",
       "      <th>filepath</th>\n",
       "      <th>semitone_offset</th>\n",
       "      <th>bpm</th>\n",
       "      <th>key</th>\n",
       "      <th>scale</th>\n",
       "      <th>total_beats</th>\n",
       "      <th>semitone_amean_0</th>\n",
       "      <th>semitone_amean_1</th>\n",
       "      <th>...</th>\n",
       "      <th>semitone_median_26</th>\n",
       "      <th>semitone_median_27</th>\n",
       "      <th>semitone_median_28</th>\n",
       "      <th>semitone_median_29</th>\n",
       "      <th>semitone_median_30</th>\n",
       "      <th>semitone_median_31</th>\n",
       "      <th>semitone_median_32</th>\n",
       "      <th>semitone_median_33</th>\n",
       "      <th>semitone_median_34</th>\n",
       "      <th>semitone_median_35</th>\n",
       "    </tr>\n",
       "  </thead>\n",
       "  <tbody>\n",
       "    <tr>\n",
       "      <th>0</th>\n",
       "      <td>Any Colour You Like</td>\n",
       "      <td>1972 - Sapporo, Japan (3-12-72)</td>\n",
       "      <td>./1972 - Sapporo, Japan (3-12-72)/Any Colour Y...</td>\n",
       "      <td>0</td>\n",
       "      <td>144.003738</td>\n",
       "      <td>C#</td>\n",
       "      <td>major</td>\n",
       "      <td>668</td>\n",
       "      <td>0.293824</td>\n",
       "      <td>0.055529</td>\n",
       "      <td>...</td>\n",
       "      <td>0.324724</td>\n",
       "      <td>0.144504</td>\n",
       "      <td>0.080366</td>\n",
       "      <td>0.106506</td>\n",
       "      <td>0.094481</td>\n",
       "      <td>0.055653</td>\n",
       "      <td>0.063480</td>\n",
       "      <td>0.083960</td>\n",
       "      <td>0.398189</td>\n",
       "      <td>0.817317</td>\n",
       "    </tr>\n",
       "    <tr>\n",
       "      <th>1</th>\n",
       "      <td>Brain Damage</td>\n",
       "      <td>1972 - Sapporo, Japan (3-12-72)</td>\n",
       "      <td>./1972 - Sapporo, Japan (3-12-72)/Brain Damage</td>\n",
       "      <td>0</td>\n",
       "      <td>129.090530</td>\n",
       "      <td>B</td>\n",
       "      <td>major</td>\n",
       "      <td>599</td>\n",
       "      <td>0.186995</td>\n",
       "      <td>0.068871</td>\n",
       "      <td>...</td>\n",
       "      <td>0.106510</td>\n",
       "      <td>0.100984</td>\n",
       "      <td>0.188387</td>\n",
       "      <td>0.415272</td>\n",
       "      <td>0.309805</td>\n",
       "      <td>0.139331</td>\n",
       "      <td>0.119428</td>\n",
       "      <td>0.090986</td>\n",
       "      <td>0.192458</td>\n",
       "      <td>0.362927</td>\n",
       "    </tr>\n",
       "    <tr>\n",
       "      <th>2</th>\n",
       "      <td>Careful With That Axe, Eugene</td>\n",
       "      <td>1972 - Sapporo, Japan (3-12-72)</td>\n",
       "      <td>./1972 - Sapporo, Japan (3-12-72)/Careful With...</td>\n",
       "      <td>0</td>\n",
       "      <td>120.015747</td>\n",
       "      <td>C#</td>\n",
       "      <td>minor</td>\n",
       "      <td>1515</td>\n",
       "      <td>0.278888</td>\n",
       "      <td>0.102913</td>\n",
       "      <td>...</td>\n",
       "      <td>0.047493</td>\n",
       "      <td>0.040973</td>\n",
       "      <td>0.095780</td>\n",
       "      <td>0.167597</td>\n",
       "      <td>0.107407</td>\n",
       "      <td>0.063285</td>\n",
       "      <td>0.077872</td>\n",
       "      <td>0.111893</td>\n",
       "      <td>0.539116</td>\n",
       "      <td>0.796482</td>\n",
       "    </tr>\n",
       "    <tr>\n",
       "      <th>3</th>\n",
       "      <td>Eclipse</td>\n",
       "      <td>1972 - Sapporo, Japan (3-12-72)</td>\n",
       "      <td>./1972 - Sapporo, Japan (3-12-72)/Eclipse</td>\n",
       "      <td>0</td>\n",
       "      <td>120.775345</td>\n",
       "      <td>C#</td>\n",
       "      <td>major</td>\n",
       "      <td>595</td>\n",
       "      <td>0.312853</td>\n",
       "      <td>0.120792</td>\n",
       "      <td>...</td>\n",
       "      <td>0.119011</td>\n",
       "      <td>0.069335</td>\n",
       "      <td>0.060718</td>\n",
       "      <td>0.080562</td>\n",
       "      <td>0.084329</td>\n",
       "      <td>0.077471</td>\n",
       "      <td>0.090600</td>\n",
       "      <td>0.091719</td>\n",
       "      <td>0.299468</td>\n",
       "      <td>0.603647</td>\n",
       "    </tr>\n",
       "    <tr>\n",
       "      <th>4</th>\n",
       "      <td>Money</td>\n",
       "      <td>1972 - Sapporo, Japan (3-12-72)</td>\n",
       "      <td>./1972 - Sapporo, Japan (3-12-72)/Money</td>\n",
       "      <td>0</td>\n",
       "      <td>123.176613</td>\n",
       "      <td>C#</td>\n",
       "      <td>major</td>\n",
       "      <td>893</td>\n",
       "      <td>0.223657</td>\n",
       "      <td>0.086578</td>\n",
       "      <td>...</td>\n",
       "      <td>0.498293</td>\n",
       "      <td>0.295483</td>\n",
       "      <td>0.105195</td>\n",
       "      <td>0.094373</td>\n",
       "      <td>0.091376</td>\n",
       "      <td>0.092304</td>\n",
       "      <td>0.118360</td>\n",
       "      <td>0.117163</td>\n",
       "      <td>0.207754</td>\n",
       "      <td>0.376693</td>\n",
       "    </tr>\n",
       "  </tbody>\n",
       "</table>\n",
       "<p>5 rows × 116 columns</p>\n",
       "</div>"
      ],
      "text/plain": [
       "                           title                            album  \\\n",
       "0            Any Colour You Like  1972 - Sapporo, Japan (3-12-72)   \n",
       "1                   Brain Damage  1972 - Sapporo, Japan (3-12-72)   \n",
       "2  Careful With That Axe, Eugene  1972 - Sapporo, Japan (3-12-72)   \n",
       "3                        Eclipse  1972 - Sapporo, Japan (3-12-72)   \n",
       "4                          Money  1972 - Sapporo, Japan (3-12-72)   \n",
       "\n",
       "                                            filepath  semitone_offset  \\\n",
       "0  ./1972 - Sapporo, Japan (3-12-72)/Any Colour Y...                0   \n",
       "1     ./1972 - Sapporo, Japan (3-12-72)/Brain Damage                0   \n",
       "2  ./1972 - Sapporo, Japan (3-12-72)/Careful With...                0   \n",
       "3          ./1972 - Sapporo, Japan (3-12-72)/Eclipse                0   \n",
       "4            ./1972 - Sapporo, Japan (3-12-72)/Money                0   \n",
       "\n",
       "          bpm key  scale  total_beats  semitone_amean_0  semitone_amean_1  \\\n",
       "0  144.003738  C#  major          668          0.293824          0.055529   \n",
       "1  129.090530   B  major          599          0.186995          0.068871   \n",
       "2  120.015747  C#  minor         1515          0.278888          0.102913   \n",
       "3  120.775345  C#  major          595          0.312853          0.120792   \n",
       "4  123.176613  C#  major          893          0.223657          0.086578   \n",
       "\n",
       "   ...  semitone_median_26  semitone_median_27  semitone_median_28  \\\n",
       "0  ...            0.324724            0.144504            0.080366   \n",
       "1  ...            0.106510            0.100984            0.188387   \n",
       "2  ...            0.047493            0.040973            0.095780   \n",
       "3  ...            0.119011            0.069335            0.060718   \n",
       "4  ...            0.498293            0.295483            0.105195   \n",
       "\n",
       "   semitone_median_29  semitone_median_30  semitone_median_31  \\\n",
       "0            0.106506            0.094481            0.055653   \n",
       "1            0.415272            0.309805            0.139331   \n",
       "2            0.167597            0.107407            0.063285   \n",
       "3            0.080562            0.084329            0.077471   \n",
       "4            0.094373            0.091376            0.092304   \n",
       "\n",
       "   semitone_median_32  semitone_median_33  semitone_median_34  \\\n",
       "0            0.063480            0.083960            0.398189   \n",
       "1            0.119428            0.090986            0.192458   \n",
       "2            0.077872            0.111893            0.539116   \n",
       "3            0.090600            0.091719            0.299468   \n",
       "4            0.118360            0.117163            0.207754   \n",
       "\n",
       "   semitone_median_35  \n",
       "0            0.817317  \n",
       "1            0.362927  \n",
       "2            0.796482  \n",
       "3            0.603647  \n",
       "4            0.376693  \n",
       "\n",
       "[5 rows x 116 columns]"
      ]
     },
     "execution_count": 92,
     "metadata": {},
     "output_type": "execute_result"
    }
   ],
   "source": [
    "for file in file_list[1:]:\n",
    "    if file.endswith('.pkl'):\n",
    "        with open(file, 'rb') as f:\n",
    "            album_dict = pickle.load(f)\n",
    "            val_df = val_df.append(pd.DataFrame.from_dict(album_dict, orient='index'), ignore_index=True)\n",
    "            f.close()\n",
    "\n",
    "val_df.head()"
   ]
  },
  {
   "cell_type": "code",
   "execution_count": 93,
   "metadata": {},
   "outputs": [
    {
     "data": {
      "text/plain": [
       "'/home/bam/metis/projects/project_3/data'"
      ]
     },
     "execution_count": 93,
     "metadata": {},
     "output_type": "execute_result"
    }
   ],
   "source": [
    "os.chdir('../')\n",
    "os.getcwd()"
   ]
  },
  {
   "cell_type": "code",
   "execution_count": 94,
   "metadata": {},
   "outputs": [],
   "source": [
    "with open('val_df.pkl', 'wb') as f:\n",
    "    pickle.dump(val_df, f)"
   ]
  },
  {
   "cell_type": "markdown",
   "metadata": {},
   "source": [
    "# Get data for test"
   ]
  },
  {
   "cell_type": "code",
   "execution_count": 6,
   "metadata": {},
   "outputs": [
    {
     "data": {
      "text/plain": [
       "'/home/bam/metis/projects/project_3/data'"
      ]
     },
     "execution_count": 6,
     "metadata": {},
     "output_type": "execute_result"
    }
   ],
   "source": [
    "os.getcwd()"
   ]
  },
  {
   "cell_type": "code",
   "execution_count": 7,
   "metadata": {},
   "outputs": [],
   "source": [
    "os.chdir('./test')"
   ]
  },
  {
   "cell_type": "code",
   "execution_count": 54,
   "metadata": {
    "scrolled": false
   },
   "outputs": [
    {
     "name": "stdout",
     "output_type": "stream",
     "text": [
      "The current folder is .\n",
      "SUBFOLDER OF .: Pink Floyd HRV CDR 004 Eclipse - A Piece For Assorted Lunatics\n",
      "FILE INSIDE .: 1975 - Pink Floyd - live boston 1975_dict.pkl\n",
      "FILE INSIDE .: ._dict.pkl\n",
      "FILE INSIDE .: Live USA_dict.pkl\n",
      "FILE INSIDE .: 1977 - The Perfect Day_dict.pkl\n",
      "FILE INSIDE .: Interstellar Zappadrive_dict.pkl\n",
      "FILE INSIDE .: 1970 - Smoking Blues_dict.pkl\n",
      "FILE INSIDE .: The Darkside Rehearsals -Disc 2_dict.pkl\n",
      "FILE INSIDE .: Live at Pompeii_dict.pkl\n",
      "FILE INSIDE .: Pink Floyd HRV CDR 002 Colmar_dict.pkl\n",
      "FILE INSIDE .: BBC - CD2_dict.pkl\n",
      "FILE INSIDE .: The Darkside Rehearsals - Disc 1_dict.pkl\n",
      "FILE INSIDE .: BBC - CD1_dict.pkl\n",
      "Saving . pickle.\n",
      "The current folder is ./Pink Floyd HRV CDR 004 Eclipse - A Piece For Assorted Lunatics\n",
      "FILE INSIDE ./Pink Floyd HRV CDR 004 Eclipse - A Piece For Assorted Lunatics: Speak to Me & Breathe.mp3\n",
      "FILE INSIDE ./Pink Floyd HRV CDR 004 Eclipse - A Piece For Assorted Lunatics: Any Colour You Like.mp3\n",
      "FILE INSIDE ./Pink Floyd HRV CDR 004 Eclipse - A Piece For Assorted Lunatics: Eclipse.mp3\n"
     ]
    },
    {
     "name": "stderr",
     "output_type": "stream",
     "text": [
      "/home/bam/anaconda3/lib/python3.7/site-packages/scipy/stats/stats.py:316: RuntimeWarning: divide by zero encountered in log\n",
      "  log_a = np.log(a)\n"
     ]
    },
    {
     "name": "stdout",
     "output_type": "stream",
     "text": [
      "FILE INSIDE ./Pink Floyd HRV CDR 004 Eclipse - A Piece For Assorted Lunatics: Us and Them.mp3\n",
      "FILE INSIDE ./Pink Floyd HRV CDR 004 Eclipse - A Piece For Assorted Lunatics: Childhood's End.mp3\n",
      "FILE INSIDE ./Pink Floyd HRV CDR 004 Eclipse - A Piece For Assorted Lunatics: Brain Damage.mp3\n",
      "FILE INSIDE ./Pink Floyd HRV CDR 004 Eclipse - A Piece For Assorted Lunatics: Echoes.mp3\n",
      "FILE INSIDE ./Pink Floyd HRV CDR 004 Eclipse - A Piece For Assorted Lunatics: Set the Controls for the Heart of the Sun.mp3\n",
      "FILE INSIDE ./Pink Floyd HRV CDR 004 Eclipse - A Piece For Assorted Lunatics: Money.mp3\n",
      "FILE INSIDE ./Pink Floyd HRV CDR 004 Eclipse - A Piece For Assorted Lunatics: One of These Days.mp3\n",
      "FILE INSIDE ./Pink Floyd HRV CDR 004 Eclipse - A Piece For Assorted Lunatics: Time.mp3\n",
      "FILE INSIDE ./Pink Floyd HRV CDR 004 Eclipse - A Piece For Assorted Lunatics: Careful With That Axe, Eugene.mp3\n",
      "Saving ./Pink Floyd HRV CDR 004 Eclipse - A Piece For Assorted Lunatics pickle.\n",
      "All Folders Pickled\n"
     ]
    }
   ],
   "source": [
    "conv_folder_to_pkls()"
   ]
  },
  {
   "cell_type": "code",
   "execution_count": 59,
   "metadata": {},
   "outputs": [
    {
     "data": {
      "text/plain": [
       "'/home/bam/metis/projects/project_3/data/test'"
      ]
     },
     "execution_count": 59,
     "metadata": {},
     "output_type": "execute_result"
    }
   ],
   "source": [
    "os.getcwd()"
   ]
  },
  {
   "cell_type": "code",
   "execution_count": 8,
   "metadata": {
    "scrolled": false
   },
   "outputs": [
    {
     "name": "stdout",
     "output_type": "stream",
     "text": [
      "'1970 - Smoking Blues_dict.pkl'\r\n",
      "'1975 - Pink Floyd - live boston 1975_dict.pkl'\r\n",
      "'1977 - The Perfect Day_dict.pkl'\r\n",
      "'BBC - CD1_dict.pkl'\r\n",
      "'BBC - CD2_dict.pkl'\r\n",
      "'Interstellar Zappadrive_dict.pkl'\r\n",
      "'Live at Pompeii_dict.pkl'\r\n",
      "'Live USA_dict.pkl'\r\n",
      "'Pink Floyd HRV CDR 002 Colmar_dict.pkl'\r\n",
      "'Pink Floyd HRV CDR 004 Eclipse - A Piece For Assorted Lunatics_dict.pkl'\r\n",
      "'The Darkside Rehearsals - Disc 1_dict.pkl'\r\n",
      "'The Darkside Rehearsals -Disc 2_dict.pkl'\r\n"
     ]
    }
   ],
   "source": [
    "!ls"
   ]
  },
  {
   "cell_type": "code",
   "execution_count": 9,
   "metadata": {},
   "outputs": [],
   "source": [
    "file_list = !ls"
   ]
  },
  {
   "cell_type": "code",
   "execution_count": 10,
   "metadata": {},
   "outputs": [],
   "source": [
    "with open(file_list[0], 'rb') as f:\n",
    "    first_album_dict = pickle.load(f)"
   ]
  },
  {
   "cell_type": "code",
   "execution_count": 11,
   "metadata": {},
   "outputs": [],
   "source": [
    "test_df = pd.DataFrame.from_dict(first_album_dict, orient='index')"
   ]
  },
  {
   "cell_type": "code",
   "execution_count": 12,
   "metadata": {},
   "outputs": [
    {
     "data": {
      "text/html": [
       "<div>\n",
       "<style scoped>\n",
       "    .dataframe tbody tr th:only-of-type {\n",
       "        vertical-align: middle;\n",
       "    }\n",
       "\n",
       "    .dataframe tbody tr th {\n",
       "        vertical-align: top;\n",
       "    }\n",
       "\n",
       "    .dataframe thead th {\n",
       "        text-align: right;\n",
       "    }\n",
       "</style>\n",
       "<table border=\"1\" class=\"dataframe\">\n",
       "  <thead>\n",
       "    <tr style=\"text-align: right;\">\n",
       "      <th></th>\n",
       "      <th>title</th>\n",
       "      <th>album</th>\n",
       "      <th>filepath</th>\n",
       "      <th>semitone_offset</th>\n",
       "      <th>bpm</th>\n",
       "      <th>key</th>\n",
       "      <th>scale</th>\n",
       "      <th>total_beats</th>\n",
       "      <th>semitone_amean_0</th>\n",
       "      <th>semitone_amean_1</th>\n",
       "      <th>...</th>\n",
       "      <th>semitone_median_26</th>\n",
       "      <th>semitone_median_27</th>\n",
       "      <th>semitone_median_28</th>\n",
       "      <th>semitone_median_29</th>\n",
       "      <th>semitone_median_30</th>\n",
       "      <th>semitone_median_31</th>\n",
       "      <th>semitone_median_32</th>\n",
       "      <th>semitone_median_33</th>\n",
       "      <th>semitone_median_34</th>\n",
       "      <th>semitone_median_35</th>\n",
       "    </tr>\n",
       "  </thead>\n",
       "  <tbody>\n",
       "    <tr>\n",
       "      <th>0</th>\n",
       "      <td>Astronomy Domine</td>\n",
       "      <td>1970 - Smoking Blues</td>\n",
       "      <td>./1970 - Smoking Blues/Astronomy Domine</td>\n",
       "      <td>0</td>\n",
       "      <td>130.013504</td>\n",
       "      <td>Ab</td>\n",
       "      <td>minor</td>\n",
       "      <td>1209</td>\n",
       "      <td>0.122071</td>\n",
       "      <td>0.134805</td>\n",
       "      <td>...</td>\n",
       "      <td>0.073287</td>\n",
       "      <td>0.069486</td>\n",
       "      <td>0.111301</td>\n",
       "      <td>0.129226</td>\n",
       "      <td>0.108101</td>\n",
       "      <td>0.120625</td>\n",
       "      <td>0.114420</td>\n",
       "      <td>0.080217</td>\n",
       "      <td>0.094867</td>\n",
       "      <td>0.111911</td>\n",
       "    </tr>\n",
       "    <tr>\n",
       "      <th>1</th>\n",
       "      <td>Atom Heart Mother</td>\n",
       "      <td>1970 - Smoking Blues</td>\n",
       "      <td>./1970 - Smoking Blues/Atom Heart Mother</td>\n",
       "      <td>0</td>\n",
       "      <td>135.949295</td>\n",
       "      <td>Ab</td>\n",
       "      <td>minor</td>\n",
       "      <td>2345</td>\n",
       "      <td>0.115335</td>\n",
       "      <td>0.136503</td>\n",
       "      <td>...</td>\n",
       "      <td>0.061186</td>\n",
       "      <td>0.040159</td>\n",
       "      <td>0.129429</td>\n",
       "      <td>0.197695</td>\n",
       "      <td>0.069846</td>\n",
       "      <td>0.032474</td>\n",
       "      <td>0.030095</td>\n",
       "      <td>0.027463</td>\n",
       "      <td>0.125730</td>\n",
       "      <td>0.164735</td>\n",
       "    </tr>\n",
       "    <tr>\n",
       "      <th>2</th>\n",
       "      <td>Cymbaline</td>\n",
       "      <td>1970 - Smoking Blues</td>\n",
       "      <td>./1970 - Smoking Blues/Cymbaline</td>\n",
       "      <td>0</td>\n",
       "      <td>123.500526</td>\n",
       "      <td>Ab</td>\n",
       "      <td>minor</td>\n",
       "      <td>1474</td>\n",
       "      <td>0.197999</td>\n",
       "      <td>0.120970</td>\n",
       "      <td>...</td>\n",
       "      <td>0.153300</td>\n",
       "      <td>0.090494</td>\n",
       "      <td>0.107763</td>\n",
       "      <td>0.201548</td>\n",
       "      <td>0.133157</td>\n",
       "      <td>0.067902</td>\n",
       "      <td>0.084559</td>\n",
       "      <td>0.090813</td>\n",
       "      <td>0.195618</td>\n",
       "      <td>0.280962</td>\n",
       "    </tr>\n",
       "    <tr>\n",
       "      <th>3</th>\n",
       "      <td>Fat Old Sun</td>\n",
       "      <td>1970 - Smoking Blues</td>\n",
       "      <td>./1970 - Smoking Blues/Fat Old Sun</td>\n",
       "      <td>0</td>\n",
       "      <td>146.888382</td>\n",
       "      <td>C#</td>\n",
       "      <td>minor</td>\n",
       "      <td>1928</td>\n",
       "      <td>0.130550</td>\n",
       "      <td>0.095349</td>\n",
       "      <td>...</td>\n",
       "      <td>0.020821</td>\n",
       "      <td>0.019367</td>\n",
       "      <td>0.133620</td>\n",
       "      <td>0.209203</td>\n",
       "      <td>0.061479</td>\n",
       "      <td>0.014881</td>\n",
       "      <td>0.014558</td>\n",
       "      <td>0.028366</td>\n",
       "      <td>0.268018</td>\n",
       "      <td>0.399256</td>\n",
       "    </tr>\n",
       "    <tr>\n",
       "      <th>4</th>\n",
       "      <td>Dogs</td>\n",
       "      <td>1975 - Pink Floyd - live boston 1975</td>\n",
       "      <td>./1975 - Pink Floyd - live boston 1975/Dogs</td>\n",
       "      <td>0</td>\n",
       "      <td>123.123215</td>\n",
       "      <td>D</td>\n",
       "      <td>minor</td>\n",
       "      <td>1749</td>\n",
       "      <td>0.193741</td>\n",
       "      <td>0.370013</td>\n",
       "      <td>...</td>\n",
       "      <td>0.125513</td>\n",
       "      <td>0.091805</td>\n",
       "      <td>0.086670</td>\n",
       "      <td>0.066470</td>\n",
       "      <td>0.089680</td>\n",
       "      <td>0.105248</td>\n",
       "      <td>0.059012</td>\n",
       "      <td>0.038518</td>\n",
       "      <td>0.042021</td>\n",
       "      <td>0.055202</td>\n",
       "    </tr>\n",
       "  </tbody>\n",
       "</table>\n",
       "<p>5 rows × 116 columns</p>\n",
       "</div>"
      ],
      "text/plain": [
       "               title                                 album  \\\n",
       "0   Astronomy Domine                  1970 - Smoking Blues   \n",
       "1  Atom Heart Mother                  1970 - Smoking Blues   \n",
       "2          Cymbaline                  1970 - Smoking Blues   \n",
       "3        Fat Old Sun                  1970 - Smoking Blues   \n",
       "4               Dogs  1975 - Pink Floyd - live boston 1975   \n",
       "\n",
       "                                      filepath  semitone_offset         bpm  \\\n",
       "0      ./1970 - Smoking Blues/Astronomy Domine                0  130.013504   \n",
       "1     ./1970 - Smoking Blues/Atom Heart Mother                0  135.949295   \n",
       "2             ./1970 - Smoking Blues/Cymbaline                0  123.500526   \n",
       "3           ./1970 - Smoking Blues/Fat Old Sun                0  146.888382   \n",
       "4  ./1975 - Pink Floyd - live boston 1975/Dogs                0  123.123215   \n",
       "\n",
       "  key  scale  total_beats  semitone_amean_0  semitone_amean_1  ...  \\\n",
       "0  Ab  minor         1209          0.122071          0.134805  ...   \n",
       "1  Ab  minor         2345          0.115335          0.136503  ...   \n",
       "2  Ab  minor         1474          0.197999          0.120970  ...   \n",
       "3  C#  minor         1928          0.130550          0.095349  ...   \n",
       "4   D  minor         1749          0.193741          0.370013  ...   \n",
       "\n",
       "   semitone_median_26  semitone_median_27  semitone_median_28  \\\n",
       "0            0.073287            0.069486            0.111301   \n",
       "1            0.061186            0.040159            0.129429   \n",
       "2            0.153300            0.090494            0.107763   \n",
       "3            0.020821            0.019367            0.133620   \n",
       "4            0.125513            0.091805            0.086670   \n",
       "\n",
       "   semitone_median_29  semitone_median_30  semitone_median_31  \\\n",
       "0            0.129226            0.108101            0.120625   \n",
       "1            0.197695            0.069846            0.032474   \n",
       "2            0.201548            0.133157            0.067902   \n",
       "3            0.209203            0.061479            0.014881   \n",
       "4            0.066470            0.089680            0.105248   \n",
       "\n",
       "   semitone_median_32  semitone_median_33  semitone_median_34  \\\n",
       "0            0.114420            0.080217            0.094867   \n",
       "1            0.030095            0.027463            0.125730   \n",
       "2            0.084559            0.090813            0.195618   \n",
       "3            0.014558            0.028366            0.268018   \n",
       "4            0.059012            0.038518            0.042021   \n",
       "\n",
       "   semitone_median_35  \n",
       "0            0.111911  \n",
       "1            0.164735  \n",
       "2            0.280962  \n",
       "3            0.399256  \n",
       "4            0.055202  \n",
       "\n",
       "[5 rows x 116 columns]"
      ]
     },
     "execution_count": 12,
     "metadata": {},
     "output_type": "execute_result"
    }
   ],
   "source": [
    "for file in file_list[1:]:\n",
    "    if file.endswith('.pkl'):\n",
    "        with open(file, 'rb') as f:\n",
    "            album_dict = pickle.load(f)\n",
    "            test_df = test_df.append(pd.DataFrame.from_dict(album_dict, orient='index'), ignore_index=True)\n",
    "            f.close()\n",
    "\n",
    "test_df.head()"
   ]
  },
  {
   "cell_type": "code",
   "execution_count": 13,
   "metadata": {},
   "outputs": [
    {
     "data": {
      "text/plain": [
       "'/home/bam/metis/projects/project_3/data'"
      ]
     },
     "execution_count": 13,
     "metadata": {},
     "output_type": "execute_result"
    }
   ],
   "source": [
    "os.chdir('../')\n",
    "os.getcwd()"
   ]
  },
  {
   "cell_type": "code",
   "execution_count": 14,
   "metadata": {},
   "outputs": [],
   "source": [
    "with open('test_df.pkl', 'wb') as f:\n",
    "    pickle.dump(test_df, f)"
   ]
  },
  {
   "cell_type": "markdown",
   "metadata": {},
   "source": [
    "# Convert dummies and do some cleaning\n",
    "## TODO: Functionalize"
   ]
  },
  {
   "cell_type": "markdown",
   "metadata": {},
   "source": [
    "# Load pickles"
   ]
  },
  {
   "cell_type": "code",
   "execution_count": 33,
   "metadata": {},
   "outputs": [
    {
     "data": {
      "text/html": [
       "<div>\n",
       "<style scoped>\n",
       "    .dataframe tbody tr th:only-of-type {\n",
       "        vertical-align: middle;\n",
       "    }\n",
       "\n",
       "    .dataframe tbody tr th {\n",
       "        vertical-align: top;\n",
       "    }\n",
       "\n",
       "    .dataframe thead th {\n",
       "        text-align: right;\n",
       "    }\n",
       "</style>\n",
       "<table border=\"1\" class=\"dataframe\">\n",
       "  <thead>\n",
       "    <tr style=\"text-align: right;\">\n",
       "      <th></th>\n",
       "      <th>title</th>\n",
       "      <th>album</th>\n",
       "      <th>filepath</th>\n",
       "      <th>semitone_offset</th>\n",
       "      <th>bpm</th>\n",
       "      <th>key</th>\n",
       "      <th>scale</th>\n",
       "      <th>total_beats</th>\n",
       "      <th>semitone_amean_0</th>\n",
       "      <th>semitone_amean_1</th>\n",
       "      <th>...</th>\n",
       "      <th>semitone_median_26</th>\n",
       "      <th>semitone_median_27</th>\n",
       "      <th>semitone_median_28</th>\n",
       "      <th>semitone_median_29</th>\n",
       "      <th>semitone_median_30</th>\n",
       "      <th>semitone_median_31</th>\n",
       "      <th>semitone_median_32</th>\n",
       "      <th>semitone_median_33</th>\n",
       "      <th>semitone_median_34</th>\n",
       "      <th>semitone_median_35</th>\n",
       "    </tr>\n",
       "  </thead>\n",
       "  <tbody>\n",
       "    <tr>\n",
       "      <th>0</th>\n",
       "      <td>A New Machine (Part 1)</td>\n",
       "      <td>A Momentary Lapse of Reason</td>\n",
       "      <td>./prototypes/A Momentary Lapse of Reason/A New...</td>\n",
       "      <td>-1</td>\n",
       "      <td>135.759918</td>\n",
       "      <td>B</td>\n",
       "      <td>minor</td>\n",
       "      <td>219</td>\n",
       "      <td>0.015184</td>\n",
       "      <td>0.031082</td>\n",
       "      <td>...</td>\n",
       "      <td>0.000060</td>\n",
       "      <td>0.005635</td>\n",
       "      <td>0.355759</td>\n",
       "      <td>0.542594</td>\n",
       "      <td>0.082526</td>\n",
       "      <td>0.002468</td>\n",
       "      <td>0.001095</td>\n",
       "      <td>0.000131</td>\n",
       "      <td>0.000163</td>\n",
       "      <td>0.000601</td>\n",
       "    </tr>\n",
       "    <tr>\n",
       "      <th>1</th>\n",
       "      <td>A New Machine (Part 1)</td>\n",
       "      <td>A Momentary Lapse of Reason</td>\n",
       "      <td>./prototypes/A Momentary Lapse of Reason/A New...</td>\n",
       "      <td>-2</td>\n",
       "      <td>135.759918</td>\n",
       "      <td>B</td>\n",
       "      <td>minor</td>\n",
       "      <td>219</td>\n",
       "      <td>0.031082</td>\n",
       "      <td>0.026377</td>\n",
       "      <td>...</td>\n",
       "      <td>0.005635</td>\n",
       "      <td>0.355759</td>\n",
       "      <td>0.542594</td>\n",
       "      <td>0.082526</td>\n",
       "      <td>0.002468</td>\n",
       "      <td>0.001095</td>\n",
       "      <td>0.000131</td>\n",
       "      <td>0.000163</td>\n",
       "      <td>0.000601</td>\n",
       "      <td>0.000885</td>\n",
       "    </tr>\n",
       "    <tr>\n",
       "      <th>2</th>\n",
       "      <td>A New Machine (Part 1)</td>\n",
       "      <td>A Momentary Lapse of Reason</td>\n",
       "      <td>./prototypes/A Momentary Lapse of Reason/A New...</td>\n",
       "      <td>0</td>\n",
       "      <td>135.759918</td>\n",
       "      <td>C</td>\n",
       "      <td>minor</td>\n",
       "      <td>219</td>\n",
       "      <td>0.009655</td>\n",
       "      <td>0.015184</td>\n",
       "      <td>...</td>\n",
       "      <td>0.000108</td>\n",
       "      <td>0.000060</td>\n",
       "      <td>0.005635</td>\n",
       "      <td>0.355759</td>\n",
       "      <td>0.542594</td>\n",
       "      <td>0.082526</td>\n",
       "      <td>0.002468</td>\n",
       "      <td>0.001095</td>\n",
       "      <td>0.000131</td>\n",
       "      <td>0.000163</td>\n",
       "    </tr>\n",
       "    <tr>\n",
       "      <th>3</th>\n",
       "      <td>A New Machine (Part 1)</td>\n",
       "      <td>A Momentary Lapse of Reason</td>\n",
       "      <td>./prototypes/A Momentary Lapse of Reason/A New...</td>\n",
       "      <td>1</td>\n",
       "      <td>135.759918</td>\n",
       "      <td>C</td>\n",
       "      <td>minor</td>\n",
       "      <td>219</td>\n",
       "      <td>0.009816</td>\n",
       "      <td>0.009655</td>\n",
       "      <td>...</td>\n",
       "      <td>0.001509</td>\n",
       "      <td>0.000108</td>\n",
       "      <td>0.000060</td>\n",
       "      <td>0.005635</td>\n",
       "      <td>0.355759</td>\n",
       "      <td>0.542594</td>\n",
       "      <td>0.082526</td>\n",
       "      <td>0.002468</td>\n",
       "      <td>0.001095</td>\n",
       "      <td>0.000131</td>\n",
       "    </tr>\n",
       "    <tr>\n",
       "      <th>4</th>\n",
       "      <td>A New Machine (Part 1)</td>\n",
       "      <td>A Momentary Lapse of Reason</td>\n",
       "      <td>./prototypes/A Momentary Lapse of Reason/A New...</td>\n",
       "      <td>2</td>\n",
       "      <td>135.759918</td>\n",
       "      <td>C</td>\n",
       "      <td>minor</td>\n",
       "      <td>219</td>\n",
       "      <td>0.008938</td>\n",
       "      <td>0.009816</td>\n",
       "      <td>...</td>\n",
       "      <td>0.031911</td>\n",
       "      <td>0.001509</td>\n",
       "      <td>0.000108</td>\n",
       "      <td>0.000060</td>\n",
       "      <td>0.005635</td>\n",
       "      <td>0.355759</td>\n",
       "      <td>0.542594</td>\n",
       "      <td>0.082526</td>\n",
       "      <td>0.002468</td>\n",
       "      <td>0.001095</td>\n",
       "    </tr>\n",
       "  </tbody>\n",
       "</table>\n",
       "<p>5 rows × 116 columns</p>\n",
       "</div>"
      ],
      "text/plain": [
       "                    title                        album  \\\n",
       "0  A New Machine (Part 1)  A Momentary Lapse of Reason   \n",
       "1  A New Machine (Part 1)  A Momentary Lapse of Reason   \n",
       "2  A New Machine (Part 1)  A Momentary Lapse of Reason   \n",
       "3  A New Machine (Part 1)  A Momentary Lapse of Reason   \n",
       "4  A New Machine (Part 1)  A Momentary Lapse of Reason   \n",
       "\n",
       "                                            filepath  semitone_offset  \\\n",
       "0  ./prototypes/A Momentary Lapse of Reason/A New...               -1   \n",
       "1  ./prototypes/A Momentary Lapse of Reason/A New...               -2   \n",
       "2  ./prototypes/A Momentary Lapse of Reason/A New...                0   \n",
       "3  ./prototypes/A Momentary Lapse of Reason/A New...                1   \n",
       "4  ./prototypes/A Momentary Lapse of Reason/A New...                2   \n",
       "\n",
       "          bpm key  scale  total_beats  semitone_amean_0  semitone_amean_1  \\\n",
       "0  135.759918   B  minor          219          0.015184          0.031082   \n",
       "1  135.759918   B  minor          219          0.031082          0.026377   \n",
       "2  135.759918   C  minor          219          0.009655          0.015184   \n",
       "3  135.759918   C  minor          219          0.009816          0.009655   \n",
       "4  135.759918   C  minor          219          0.008938          0.009816   \n",
       "\n",
       "   ...  semitone_median_26  semitone_median_27  semitone_median_28  \\\n",
       "0  ...            0.000060            0.005635            0.355759   \n",
       "1  ...            0.005635            0.355759            0.542594   \n",
       "2  ...            0.000108            0.000060            0.005635   \n",
       "3  ...            0.001509            0.000108            0.000060   \n",
       "4  ...            0.031911            0.001509            0.000108   \n",
       "\n",
       "   semitone_median_29  semitone_median_30  semitone_median_31  \\\n",
       "0            0.542594            0.082526            0.002468   \n",
       "1            0.082526            0.002468            0.001095   \n",
       "2            0.355759            0.542594            0.082526   \n",
       "3            0.005635            0.355759            0.542594   \n",
       "4            0.000060            0.005635            0.355759   \n",
       "\n",
       "   semitone_median_32  semitone_median_33  semitone_median_34  \\\n",
       "0            0.001095            0.000131            0.000163   \n",
       "1            0.000131            0.000163            0.000601   \n",
       "2            0.002468            0.001095            0.000131   \n",
       "3            0.082526            0.002468            0.001095   \n",
       "4            0.542594            0.082526            0.002468   \n",
       "\n",
       "   semitone_median_35  \n",
       "0            0.000601  \n",
       "1            0.000885  \n",
       "2            0.000163  \n",
       "3            0.000131  \n",
       "4            0.001095  \n",
       "\n",
       "[5 rows x 116 columns]"
      ]
     },
     "execution_count": 33,
     "metadata": {},
     "output_type": "execute_result"
    }
   ],
   "source": [
    "with open('all_songs.pkl', 'rb') as f:\n",
    "    all_songs = pickle.load(f)\n",
    "\n",
    "all_songs.head()"
   ]
  },
  {
   "cell_type": "code",
   "execution_count": 34,
   "metadata": {
    "scrolled": true
   },
   "outputs": [
    {
     "data": {
      "text/html": [
       "<div>\n",
       "<style scoped>\n",
       "    .dataframe tbody tr th:only-of-type {\n",
       "        vertical-align: middle;\n",
       "    }\n",
       "\n",
       "    .dataframe tbody tr th {\n",
       "        vertical-align: top;\n",
       "    }\n",
       "\n",
       "    .dataframe thead th {\n",
       "        text-align: right;\n",
       "    }\n",
       "</style>\n",
       "<table border=\"1\" class=\"dataframe\">\n",
       "  <thead>\n",
       "    <tr style=\"text-align: right;\">\n",
       "      <th></th>\n",
       "      <th>title</th>\n",
       "      <th>album</th>\n",
       "      <th>filepath</th>\n",
       "      <th>semitone_offset</th>\n",
       "      <th>bpm</th>\n",
       "      <th>key</th>\n",
       "      <th>scale</th>\n",
       "      <th>total_beats</th>\n",
       "      <th>semitone_amean_0</th>\n",
       "      <th>semitone_amean_1</th>\n",
       "      <th>...</th>\n",
       "      <th>semitone_median_26</th>\n",
       "      <th>semitone_median_27</th>\n",
       "      <th>semitone_median_28</th>\n",
       "      <th>semitone_median_29</th>\n",
       "      <th>semitone_median_30</th>\n",
       "      <th>semitone_median_31</th>\n",
       "      <th>semitone_median_32</th>\n",
       "      <th>semitone_median_33</th>\n",
       "      <th>semitone_median_34</th>\n",
       "      <th>semitone_median_35</th>\n",
       "    </tr>\n",
       "  </thead>\n",
       "  <tbody>\n",
       "    <tr>\n",
       "      <th>0</th>\n",
       "      <td>Any Colour You Like</td>\n",
       "      <td>1972 - Sapporo, Japan (3-12-72)</td>\n",
       "      <td>./1972 - Sapporo, Japan (3-12-72)/Any Colour Y...</td>\n",
       "      <td>0</td>\n",
       "      <td>144.003738</td>\n",
       "      <td>C#</td>\n",
       "      <td>major</td>\n",
       "      <td>668</td>\n",
       "      <td>0.293824</td>\n",
       "      <td>0.055529</td>\n",
       "      <td>...</td>\n",
       "      <td>0.324724</td>\n",
       "      <td>0.144504</td>\n",
       "      <td>0.080366</td>\n",
       "      <td>0.106506</td>\n",
       "      <td>0.094481</td>\n",
       "      <td>0.055653</td>\n",
       "      <td>0.063480</td>\n",
       "      <td>0.083960</td>\n",
       "      <td>0.398189</td>\n",
       "      <td>0.817317</td>\n",
       "    </tr>\n",
       "    <tr>\n",
       "      <th>1</th>\n",
       "      <td>Brain Damage</td>\n",
       "      <td>1972 - Sapporo, Japan (3-12-72)</td>\n",
       "      <td>./1972 - Sapporo, Japan (3-12-72)/Brain Damage</td>\n",
       "      <td>0</td>\n",
       "      <td>129.090530</td>\n",
       "      <td>B</td>\n",
       "      <td>major</td>\n",
       "      <td>599</td>\n",
       "      <td>0.186995</td>\n",
       "      <td>0.068871</td>\n",
       "      <td>...</td>\n",
       "      <td>0.106510</td>\n",
       "      <td>0.100984</td>\n",
       "      <td>0.188387</td>\n",
       "      <td>0.415272</td>\n",
       "      <td>0.309805</td>\n",
       "      <td>0.139331</td>\n",
       "      <td>0.119428</td>\n",
       "      <td>0.090986</td>\n",
       "      <td>0.192458</td>\n",
       "      <td>0.362927</td>\n",
       "    </tr>\n",
       "    <tr>\n",
       "      <th>2</th>\n",
       "      <td>Careful With That Axe, Eugene</td>\n",
       "      <td>1972 - Sapporo, Japan (3-12-72)</td>\n",
       "      <td>./1972 - Sapporo, Japan (3-12-72)/Careful With...</td>\n",
       "      <td>0</td>\n",
       "      <td>120.015747</td>\n",
       "      <td>C#</td>\n",
       "      <td>minor</td>\n",
       "      <td>1515</td>\n",
       "      <td>0.278888</td>\n",
       "      <td>0.102913</td>\n",
       "      <td>...</td>\n",
       "      <td>0.047493</td>\n",
       "      <td>0.040973</td>\n",
       "      <td>0.095780</td>\n",
       "      <td>0.167597</td>\n",
       "      <td>0.107407</td>\n",
       "      <td>0.063285</td>\n",
       "      <td>0.077872</td>\n",
       "      <td>0.111893</td>\n",
       "      <td>0.539116</td>\n",
       "      <td>0.796482</td>\n",
       "    </tr>\n",
       "    <tr>\n",
       "      <th>3</th>\n",
       "      <td>Eclipse</td>\n",
       "      <td>1972 - Sapporo, Japan (3-12-72)</td>\n",
       "      <td>./1972 - Sapporo, Japan (3-12-72)/Eclipse</td>\n",
       "      <td>0</td>\n",
       "      <td>120.775345</td>\n",
       "      <td>C#</td>\n",
       "      <td>major</td>\n",
       "      <td>595</td>\n",
       "      <td>0.312853</td>\n",
       "      <td>0.120792</td>\n",
       "      <td>...</td>\n",
       "      <td>0.119011</td>\n",
       "      <td>0.069335</td>\n",
       "      <td>0.060718</td>\n",
       "      <td>0.080562</td>\n",
       "      <td>0.084329</td>\n",
       "      <td>0.077471</td>\n",
       "      <td>0.090600</td>\n",
       "      <td>0.091719</td>\n",
       "      <td>0.299468</td>\n",
       "      <td>0.603647</td>\n",
       "    </tr>\n",
       "    <tr>\n",
       "      <th>4</th>\n",
       "      <td>Money</td>\n",
       "      <td>1972 - Sapporo, Japan (3-12-72)</td>\n",
       "      <td>./1972 - Sapporo, Japan (3-12-72)/Money</td>\n",
       "      <td>0</td>\n",
       "      <td>123.176613</td>\n",
       "      <td>C#</td>\n",
       "      <td>major</td>\n",
       "      <td>893</td>\n",
       "      <td>0.223657</td>\n",
       "      <td>0.086578</td>\n",
       "      <td>...</td>\n",
       "      <td>0.498293</td>\n",
       "      <td>0.295483</td>\n",
       "      <td>0.105195</td>\n",
       "      <td>0.094373</td>\n",
       "      <td>0.091376</td>\n",
       "      <td>0.092304</td>\n",
       "      <td>0.118360</td>\n",
       "      <td>0.117163</td>\n",
       "      <td>0.207754</td>\n",
       "      <td>0.376693</td>\n",
       "    </tr>\n",
       "  </tbody>\n",
       "</table>\n",
       "<p>5 rows × 116 columns</p>\n",
       "</div>"
      ],
      "text/plain": [
       "                           title                            album  \\\n",
       "0            Any Colour You Like  1972 - Sapporo, Japan (3-12-72)   \n",
       "1                   Brain Damage  1972 - Sapporo, Japan (3-12-72)   \n",
       "2  Careful With That Axe, Eugene  1972 - Sapporo, Japan (3-12-72)   \n",
       "3                        Eclipse  1972 - Sapporo, Japan (3-12-72)   \n",
       "4                          Money  1972 - Sapporo, Japan (3-12-72)   \n",
       "\n",
       "                                            filepath  semitone_offset  \\\n",
       "0  ./1972 - Sapporo, Japan (3-12-72)/Any Colour Y...                0   \n",
       "1     ./1972 - Sapporo, Japan (3-12-72)/Brain Damage                0   \n",
       "2  ./1972 - Sapporo, Japan (3-12-72)/Careful With...                0   \n",
       "3          ./1972 - Sapporo, Japan (3-12-72)/Eclipse                0   \n",
       "4            ./1972 - Sapporo, Japan (3-12-72)/Money                0   \n",
       "\n",
       "          bpm key  scale  total_beats  semitone_amean_0  semitone_amean_1  \\\n",
       "0  144.003738  C#  major          668          0.293824          0.055529   \n",
       "1  129.090530   B  major          599          0.186995          0.068871   \n",
       "2  120.015747  C#  minor         1515          0.278888          0.102913   \n",
       "3  120.775345  C#  major          595          0.312853          0.120792   \n",
       "4  123.176613  C#  major          893          0.223657          0.086578   \n",
       "\n",
       "   ...  semitone_median_26  semitone_median_27  semitone_median_28  \\\n",
       "0  ...            0.324724            0.144504            0.080366   \n",
       "1  ...            0.106510            0.100984            0.188387   \n",
       "2  ...            0.047493            0.040973            0.095780   \n",
       "3  ...            0.119011            0.069335            0.060718   \n",
       "4  ...            0.498293            0.295483            0.105195   \n",
       "\n",
       "   semitone_median_29  semitone_median_30  semitone_median_31  \\\n",
       "0            0.106506            0.094481            0.055653   \n",
       "1            0.415272            0.309805            0.139331   \n",
       "2            0.167597            0.107407            0.063285   \n",
       "3            0.080562            0.084329            0.077471   \n",
       "4            0.094373            0.091376            0.092304   \n",
       "\n",
       "   semitone_median_32  semitone_median_33  semitone_median_34  \\\n",
       "0            0.063480            0.083960            0.398189   \n",
       "1            0.119428            0.090986            0.192458   \n",
       "2            0.077872            0.111893            0.539116   \n",
       "3            0.090600            0.091719            0.299468   \n",
       "4            0.118360            0.117163            0.207754   \n",
       "\n",
       "   semitone_median_35  \n",
       "0            0.817317  \n",
       "1            0.362927  \n",
       "2            0.796482  \n",
       "3            0.603647  \n",
       "4            0.376693  \n",
       "\n",
       "[5 rows x 116 columns]"
      ]
     },
     "execution_count": 34,
     "metadata": {},
     "output_type": "execute_result"
    }
   ],
   "source": [
    "with open('val_df.pkl', 'rb') as f:\n",
    "    val_df = pickle.load(f)\n",
    "\n",
    "val_df.head()"
   ]
  },
  {
   "cell_type": "code",
   "execution_count": 35,
   "metadata": {},
   "outputs": [
    {
     "data": {
      "text/html": [
       "<div>\n",
       "<style scoped>\n",
       "    .dataframe tbody tr th:only-of-type {\n",
       "        vertical-align: middle;\n",
       "    }\n",
       "\n",
       "    .dataframe tbody tr th {\n",
       "        vertical-align: top;\n",
       "    }\n",
       "\n",
       "    .dataframe thead th {\n",
       "        text-align: right;\n",
       "    }\n",
       "</style>\n",
       "<table border=\"1\" class=\"dataframe\">\n",
       "  <thead>\n",
       "    <tr style=\"text-align: right;\">\n",
       "      <th></th>\n",
       "      <th>title</th>\n",
       "      <th>album</th>\n",
       "      <th>filepath</th>\n",
       "      <th>semitone_offset</th>\n",
       "      <th>bpm</th>\n",
       "      <th>key</th>\n",
       "      <th>scale</th>\n",
       "      <th>total_beats</th>\n",
       "      <th>semitone_amean_0</th>\n",
       "      <th>semitone_amean_1</th>\n",
       "      <th>...</th>\n",
       "      <th>semitone_median_26</th>\n",
       "      <th>semitone_median_27</th>\n",
       "      <th>semitone_median_28</th>\n",
       "      <th>semitone_median_29</th>\n",
       "      <th>semitone_median_30</th>\n",
       "      <th>semitone_median_31</th>\n",
       "      <th>semitone_median_32</th>\n",
       "      <th>semitone_median_33</th>\n",
       "      <th>semitone_median_34</th>\n",
       "      <th>semitone_median_35</th>\n",
       "    </tr>\n",
       "  </thead>\n",
       "  <tbody>\n",
       "    <tr>\n",
       "      <th>0</th>\n",
       "      <td>Astronomy Domine</td>\n",
       "      <td>1970 - Smoking Blues</td>\n",
       "      <td>./1970 - Smoking Blues/Astronomy Domine</td>\n",
       "      <td>0</td>\n",
       "      <td>130.013504</td>\n",
       "      <td>Ab</td>\n",
       "      <td>minor</td>\n",
       "      <td>1209</td>\n",
       "      <td>0.122071</td>\n",
       "      <td>0.134805</td>\n",
       "      <td>...</td>\n",
       "      <td>0.073287</td>\n",
       "      <td>0.069486</td>\n",
       "      <td>0.111301</td>\n",
       "      <td>0.129226</td>\n",
       "      <td>0.108101</td>\n",
       "      <td>0.120625</td>\n",
       "      <td>0.114420</td>\n",
       "      <td>0.080217</td>\n",
       "      <td>0.094867</td>\n",
       "      <td>0.111911</td>\n",
       "    </tr>\n",
       "    <tr>\n",
       "      <th>1</th>\n",
       "      <td>Atom Heart Mother</td>\n",
       "      <td>1970 - Smoking Blues</td>\n",
       "      <td>./1970 - Smoking Blues/Atom Heart Mother</td>\n",
       "      <td>0</td>\n",
       "      <td>135.949295</td>\n",
       "      <td>Ab</td>\n",
       "      <td>minor</td>\n",
       "      <td>2345</td>\n",
       "      <td>0.115335</td>\n",
       "      <td>0.136503</td>\n",
       "      <td>...</td>\n",
       "      <td>0.061186</td>\n",
       "      <td>0.040159</td>\n",
       "      <td>0.129429</td>\n",
       "      <td>0.197695</td>\n",
       "      <td>0.069846</td>\n",
       "      <td>0.032474</td>\n",
       "      <td>0.030095</td>\n",
       "      <td>0.027463</td>\n",
       "      <td>0.125730</td>\n",
       "      <td>0.164735</td>\n",
       "    </tr>\n",
       "    <tr>\n",
       "      <th>2</th>\n",
       "      <td>Cymbaline</td>\n",
       "      <td>1970 - Smoking Blues</td>\n",
       "      <td>./1970 - Smoking Blues/Cymbaline</td>\n",
       "      <td>0</td>\n",
       "      <td>123.500526</td>\n",
       "      <td>Ab</td>\n",
       "      <td>minor</td>\n",
       "      <td>1474</td>\n",
       "      <td>0.197999</td>\n",
       "      <td>0.120970</td>\n",
       "      <td>...</td>\n",
       "      <td>0.153300</td>\n",
       "      <td>0.090494</td>\n",
       "      <td>0.107763</td>\n",
       "      <td>0.201548</td>\n",
       "      <td>0.133157</td>\n",
       "      <td>0.067902</td>\n",
       "      <td>0.084559</td>\n",
       "      <td>0.090813</td>\n",
       "      <td>0.195618</td>\n",
       "      <td>0.280962</td>\n",
       "    </tr>\n",
       "    <tr>\n",
       "      <th>3</th>\n",
       "      <td>Fat Old Sun</td>\n",
       "      <td>1970 - Smoking Blues</td>\n",
       "      <td>./1970 - Smoking Blues/Fat Old Sun</td>\n",
       "      <td>0</td>\n",
       "      <td>146.888382</td>\n",
       "      <td>C#</td>\n",
       "      <td>minor</td>\n",
       "      <td>1928</td>\n",
       "      <td>0.130550</td>\n",
       "      <td>0.095349</td>\n",
       "      <td>...</td>\n",
       "      <td>0.020821</td>\n",
       "      <td>0.019367</td>\n",
       "      <td>0.133620</td>\n",
       "      <td>0.209203</td>\n",
       "      <td>0.061479</td>\n",
       "      <td>0.014881</td>\n",
       "      <td>0.014558</td>\n",
       "      <td>0.028366</td>\n",
       "      <td>0.268018</td>\n",
       "      <td>0.399256</td>\n",
       "    </tr>\n",
       "    <tr>\n",
       "      <th>4</th>\n",
       "      <td>Dogs</td>\n",
       "      <td>1975 - Pink Floyd - live boston 1975</td>\n",
       "      <td>./1975 - Pink Floyd - live boston 1975/Dogs</td>\n",
       "      <td>0</td>\n",
       "      <td>123.123215</td>\n",
       "      <td>D</td>\n",
       "      <td>minor</td>\n",
       "      <td>1749</td>\n",
       "      <td>0.193741</td>\n",
       "      <td>0.370013</td>\n",
       "      <td>...</td>\n",
       "      <td>0.125513</td>\n",
       "      <td>0.091805</td>\n",
       "      <td>0.086670</td>\n",
       "      <td>0.066470</td>\n",
       "      <td>0.089680</td>\n",
       "      <td>0.105248</td>\n",
       "      <td>0.059012</td>\n",
       "      <td>0.038518</td>\n",
       "      <td>0.042021</td>\n",
       "      <td>0.055202</td>\n",
       "    </tr>\n",
       "  </tbody>\n",
       "</table>\n",
       "<p>5 rows × 116 columns</p>\n",
       "</div>"
      ],
      "text/plain": [
       "               title                                 album  \\\n",
       "0   Astronomy Domine                  1970 - Smoking Blues   \n",
       "1  Atom Heart Mother                  1970 - Smoking Blues   \n",
       "2          Cymbaline                  1970 - Smoking Blues   \n",
       "3        Fat Old Sun                  1970 - Smoking Blues   \n",
       "4               Dogs  1975 - Pink Floyd - live boston 1975   \n",
       "\n",
       "                                      filepath  semitone_offset         bpm  \\\n",
       "0      ./1970 - Smoking Blues/Astronomy Domine                0  130.013504   \n",
       "1     ./1970 - Smoking Blues/Atom Heart Mother                0  135.949295   \n",
       "2             ./1970 - Smoking Blues/Cymbaline                0  123.500526   \n",
       "3           ./1970 - Smoking Blues/Fat Old Sun                0  146.888382   \n",
       "4  ./1975 - Pink Floyd - live boston 1975/Dogs                0  123.123215   \n",
       "\n",
       "  key  scale  total_beats  semitone_amean_0  semitone_amean_1  ...  \\\n",
       "0  Ab  minor         1209          0.122071          0.134805  ...   \n",
       "1  Ab  minor         2345          0.115335          0.136503  ...   \n",
       "2  Ab  minor         1474          0.197999          0.120970  ...   \n",
       "3  C#  minor         1928          0.130550          0.095349  ...   \n",
       "4   D  minor         1749          0.193741          0.370013  ...   \n",
       "\n",
       "   semitone_median_26  semitone_median_27  semitone_median_28  \\\n",
       "0            0.073287            0.069486            0.111301   \n",
       "1            0.061186            0.040159            0.129429   \n",
       "2            0.153300            0.090494            0.107763   \n",
       "3            0.020821            0.019367            0.133620   \n",
       "4            0.125513            0.091805            0.086670   \n",
       "\n",
       "   semitone_median_29  semitone_median_30  semitone_median_31  \\\n",
       "0            0.129226            0.108101            0.120625   \n",
       "1            0.197695            0.069846            0.032474   \n",
       "2            0.201548            0.133157            0.067902   \n",
       "3            0.209203            0.061479            0.014881   \n",
       "4            0.066470            0.089680            0.105248   \n",
       "\n",
       "   semitone_median_32  semitone_median_33  semitone_median_34  \\\n",
       "0            0.114420            0.080217            0.094867   \n",
       "1            0.030095            0.027463            0.125730   \n",
       "2            0.084559            0.090813            0.195618   \n",
       "3            0.014558            0.028366            0.268018   \n",
       "4            0.059012            0.038518            0.042021   \n",
       "\n",
       "   semitone_median_35  \n",
       "0            0.111911  \n",
       "1            0.164735  \n",
       "2            0.280962  \n",
       "3            0.399256  \n",
       "4            0.055202  \n",
       "\n",
       "[5 rows x 116 columns]"
      ]
     },
     "execution_count": 35,
     "metadata": {},
     "output_type": "execute_result"
    }
   ],
   "source": [
    "with open('test_df.pkl', 'rb') as f:\n",
    "    test_df = pickle.load(f)\n",
    "\n",
    "test_df.head()"
   ]
  },
  {
   "cell_type": "code",
   "execution_count": 36,
   "metadata": {
    "scrolled": true
   },
   "outputs": [],
   "source": [
    "WYWH_mask = all_songs['title'] == 'Wish You Were here'\n",
    "all_songs.at[WYWH_mask, 'title'] = 'Wish You Were Here'"
   ]
  },
  {
   "cell_type": "code",
   "execution_count": 37,
   "metadata": {
    "scrolled": true
   },
   "outputs": [
    {
     "data": {
      "text/html": [
       "<div>\n",
       "<style scoped>\n",
       "    .dataframe tbody tr th:only-of-type {\n",
       "        vertical-align: middle;\n",
       "    }\n",
       "\n",
       "    .dataframe tbody tr th {\n",
       "        vertical-align: top;\n",
       "    }\n",
       "\n",
       "    .dataframe thead th {\n",
       "        text-align: right;\n",
       "    }\n",
       "</style>\n",
       "<table border=\"1\" class=\"dataframe\">\n",
       "  <thead>\n",
       "    <tr style=\"text-align: right;\">\n",
       "      <th></th>\n",
       "      <th>title</th>\n",
       "      <th>album</th>\n",
       "      <th>filepath</th>\n",
       "      <th>semitone_offset</th>\n",
       "      <th>bpm</th>\n",
       "      <th>key</th>\n",
       "      <th>scale</th>\n",
       "      <th>total_beats</th>\n",
       "      <th>semitone_amean_0</th>\n",
       "      <th>semitone_amean_1</th>\n",
       "      <th>...</th>\n",
       "      <th>semitone_median_26</th>\n",
       "      <th>semitone_median_27</th>\n",
       "      <th>semitone_median_28</th>\n",
       "      <th>semitone_median_29</th>\n",
       "      <th>semitone_median_30</th>\n",
       "      <th>semitone_median_31</th>\n",
       "      <th>semitone_median_32</th>\n",
       "      <th>semitone_median_33</th>\n",
       "      <th>semitone_median_34</th>\n",
       "      <th>semitone_median_35</th>\n",
       "    </tr>\n",
       "  </thead>\n",
       "  <tbody>\n",
       "    <tr>\n",
       "      <th>655</th>\n",
       "      <td>Wish You Were Here</td>\n",
       "      <td>Wish You Were Here</td>\n",
       "      <td>./prototypes/Wish You Were Here/Wish You Were ...</td>\n",
       "      <td>-1</td>\n",
       "      <td>120.637405</td>\n",
       "      <td>F#</td>\n",
       "      <td>major</td>\n",
       "      <td>638</td>\n",
       "      <td>0.291138</td>\n",
       "      <td>0.070236</td>\n",
       "      <td>...</td>\n",
       "      <td>0.043910</td>\n",
       "      <td>0.054331</td>\n",
       "      <td>0.149434</td>\n",
       "      <td>0.488201</td>\n",
       "      <td>0.338659</td>\n",
       "      <td>0.060903</td>\n",
       "      <td>0.037535</td>\n",
       "      <td>0.031938</td>\n",
       "      <td>0.074783</td>\n",
       "      <td>0.199283</td>\n",
       "    </tr>\n",
       "    <tr>\n",
       "      <th>656</th>\n",
       "      <td>Wish You Were Here</td>\n",
       "      <td>Wish You Were Here</td>\n",
       "      <td>./prototypes/Wish You Were Here/Wish You Were ...</td>\n",
       "      <td>-2</td>\n",
       "      <td>120.625275</td>\n",
       "      <td>F#</td>\n",
       "      <td>major</td>\n",
       "      <td>638</td>\n",
       "      <td>0.070236</td>\n",
       "      <td>0.044388</td>\n",
       "      <td>...</td>\n",
       "      <td>0.054331</td>\n",
       "      <td>0.149434</td>\n",
       "      <td>0.488201</td>\n",
       "      <td>0.338659</td>\n",
       "      <td>0.060903</td>\n",
       "      <td>0.037535</td>\n",
       "      <td>0.031938</td>\n",
       "      <td>0.074783</td>\n",
       "      <td>0.199283</td>\n",
       "      <td>0.163401</td>\n",
       "    </tr>\n",
       "    <tr>\n",
       "      <th>657</th>\n",
       "      <td>Wish You Were Here</td>\n",
       "      <td>Wish You Were Here</td>\n",
       "      <td>./prototypes/Wish You Were Here/Wish You Were ...</td>\n",
       "      <td>0</td>\n",
       "      <td>120.625275</td>\n",
       "      <td>G</td>\n",
       "      <td>major</td>\n",
       "      <td>638</td>\n",
       "      <td>0.347458</td>\n",
       "      <td>0.291138</td>\n",
       "      <td>...</td>\n",
       "      <td>0.012276</td>\n",
       "      <td>0.043910</td>\n",
       "      <td>0.054331</td>\n",
       "      <td>0.149434</td>\n",
       "      <td>0.488201</td>\n",
       "      <td>0.338659</td>\n",
       "      <td>0.060903</td>\n",
       "      <td>0.037535</td>\n",
       "      <td>0.031938</td>\n",
       "      <td>0.074783</td>\n",
       "    </tr>\n",
       "    <tr>\n",
       "      <th>658</th>\n",
       "      <td>Wish You Were Here</td>\n",
       "      <td>Wish You Were Here</td>\n",
       "      <td>./prototypes/Wish You Were Here/Wish You Were ...</td>\n",
       "      <td>1</td>\n",
       "      <td>120.625275</td>\n",
       "      <td>G</td>\n",
       "      <td>major</td>\n",
       "      <td>638</td>\n",
       "      <td>0.117557</td>\n",
       "      <td>0.347458</td>\n",
       "      <td>...</td>\n",
       "      <td>0.004755</td>\n",
       "      <td>0.012276</td>\n",
       "      <td>0.043910</td>\n",
       "      <td>0.054331</td>\n",
       "      <td>0.149434</td>\n",
       "      <td>0.488201</td>\n",
       "      <td>0.338659</td>\n",
       "      <td>0.060903</td>\n",
       "      <td>0.037535</td>\n",
       "      <td>0.031938</td>\n",
       "    </tr>\n",
       "    <tr>\n",
       "      <th>659</th>\n",
       "      <td>Wish You Were Here</td>\n",
       "      <td>Wish You Were Here</td>\n",
       "      <td>./prototypes/Wish You Were Here/Wish You Were ...</td>\n",
       "      <td>2</td>\n",
       "      <td>120.625275</td>\n",
       "      <td>G</td>\n",
       "      <td>major</td>\n",
       "      <td>638</td>\n",
       "      <td>0.065104</td>\n",
       "      <td>0.117557</td>\n",
       "      <td>...</td>\n",
       "      <td>0.051813</td>\n",
       "      <td>0.004755</td>\n",
       "      <td>0.012276</td>\n",
       "      <td>0.043910</td>\n",
       "      <td>0.054331</td>\n",
       "      <td>0.149434</td>\n",
       "      <td>0.488201</td>\n",
       "      <td>0.338659</td>\n",
       "      <td>0.060903</td>\n",
       "      <td>0.037535</td>\n",
       "    </tr>\n",
       "  </tbody>\n",
       "</table>\n",
       "<p>5 rows × 116 columns</p>\n",
       "</div>"
      ],
      "text/plain": [
       "                  title               album  \\\n",
       "655  Wish You Were Here  Wish You Were Here   \n",
       "656  Wish You Were Here  Wish You Were Here   \n",
       "657  Wish You Were Here  Wish You Were Here   \n",
       "658  Wish You Were Here  Wish You Were Here   \n",
       "659  Wish You Were Here  Wish You Were Here   \n",
       "\n",
       "                                              filepath  semitone_offset  \\\n",
       "655  ./prototypes/Wish You Were Here/Wish You Were ...               -1   \n",
       "656  ./prototypes/Wish You Were Here/Wish You Were ...               -2   \n",
       "657  ./prototypes/Wish You Were Here/Wish You Were ...                0   \n",
       "658  ./prototypes/Wish You Were Here/Wish You Were ...                1   \n",
       "659  ./prototypes/Wish You Were Here/Wish You Were ...                2   \n",
       "\n",
       "            bpm key  scale  total_beats  semitone_amean_0  semitone_amean_1  \\\n",
       "655  120.637405  F#  major          638          0.291138          0.070236   \n",
       "656  120.625275  F#  major          638          0.070236          0.044388   \n",
       "657  120.625275   G  major          638          0.347458          0.291138   \n",
       "658  120.625275   G  major          638          0.117557          0.347458   \n",
       "659  120.625275   G  major          638          0.065104          0.117557   \n",
       "\n",
       "     ...  semitone_median_26  semitone_median_27  semitone_median_28  \\\n",
       "655  ...            0.043910            0.054331            0.149434   \n",
       "656  ...            0.054331            0.149434            0.488201   \n",
       "657  ...            0.012276            0.043910            0.054331   \n",
       "658  ...            0.004755            0.012276            0.043910   \n",
       "659  ...            0.051813            0.004755            0.012276   \n",
       "\n",
       "     semitone_median_29  semitone_median_30  semitone_median_31  \\\n",
       "655            0.488201            0.338659            0.060903   \n",
       "656            0.338659            0.060903            0.037535   \n",
       "657            0.149434            0.488201            0.338659   \n",
       "658            0.054331            0.149434            0.488201   \n",
       "659            0.043910            0.054331            0.149434   \n",
       "\n",
       "     semitone_median_32  semitone_median_33  semitone_median_34  \\\n",
       "655            0.037535            0.031938            0.074783   \n",
       "656            0.031938            0.074783            0.199283   \n",
       "657            0.060903            0.037535            0.031938   \n",
       "658            0.338659            0.060903            0.037535   \n",
       "659            0.488201            0.338659            0.060903   \n",
       "\n",
       "     semitone_median_35  \n",
       "655            0.199283  \n",
       "656            0.163401  \n",
       "657            0.074783  \n",
       "658            0.031938  \n",
       "659            0.037535  \n",
       "\n",
       "[5 rows x 116 columns]"
      ]
     },
     "execution_count": 37,
     "metadata": {},
     "output_type": "execute_result"
    }
   ],
   "source": [
    "all_songs[WYWH_mask]"
   ]
  },
  {
   "cell_type": "markdown",
   "metadata": {},
   "source": [
    "### Convert keys to discrete values"
   ]
  },
  {
   "cell_type": "code",
   "execution_count": 38,
   "metadata": {},
   "outputs": [],
   "source": [
    "key_dict = {'C': 0, 'G': 1, 'D': 2, 'A': 3, 'E': 4, 'B': 5,\n",
    "            'F#': 6, 'C#': 7, 'Ab': 8, 'Eb': 9, 'Bb': 10, 'F': 11}\n",
    "\n",
    "all_songs['key'] = all_songs['key'].map(key_dict)\n",
    "val_df['key'] = val_df['key'].map(key_dict)\n",
    "test_df['key'] = test_df['key'].map(key_dict)"
   ]
  },
  {
   "cell_type": "code",
   "execution_count": 39,
   "metadata": {
    "scrolled": true
   },
   "outputs": [
    {
     "data": {
      "text/html": [
       "<div>\n",
       "<style scoped>\n",
       "    .dataframe tbody tr th:only-of-type {\n",
       "        vertical-align: middle;\n",
       "    }\n",
       "\n",
       "    .dataframe tbody tr th {\n",
       "        vertical-align: top;\n",
       "    }\n",
       "\n",
       "    .dataframe thead th {\n",
       "        text-align: right;\n",
       "    }\n",
       "</style>\n",
       "<table border=\"1\" class=\"dataframe\">\n",
       "  <thead>\n",
       "    <tr style=\"text-align: right;\">\n",
       "      <th></th>\n",
       "      <th>major</th>\n",
       "      <th>minor</th>\n",
       "      <th>title</th>\n",
       "      <th>album</th>\n",
       "      <th>semitone_offset</th>\n",
       "      <th>bpm</th>\n",
       "      <th>key</th>\n",
       "      <th>total_beats</th>\n",
       "      <th>semitone_amean_0</th>\n",
       "      <th>semitone_amean_1</th>\n",
       "      <th>...</th>\n",
       "      <th>semitone_median_26</th>\n",
       "      <th>semitone_median_27</th>\n",
       "      <th>semitone_median_28</th>\n",
       "      <th>semitone_median_29</th>\n",
       "      <th>semitone_median_30</th>\n",
       "      <th>semitone_median_31</th>\n",
       "      <th>semitone_median_32</th>\n",
       "      <th>semitone_median_33</th>\n",
       "      <th>semitone_median_34</th>\n",
       "      <th>semitone_median_35</th>\n",
       "    </tr>\n",
       "  </thead>\n",
       "  <tbody>\n",
       "    <tr>\n",
       "      <th>0</th>\n",
       "      <td>0</td>\n",
       "      <td>1</td>\n",
       "      <td>A New Machine (Part 1)</td>\n",
       "      <td>A Momentary Lapse of Reason</td>\n",
       "      <td>-1</td>\n",
       "      <td>135.759918</td>\n",
       "      <td>5</td>\n",
       "      <td>219</td>\n",
       "      <td>0.015184</td>\n",
       "      <td>0.031082</td>\n",
       "      <td>...</td>\n",
       "      <td>0.000060</td>\n",
       "      <td>0.005635</td>\n",
       "      <td>0.355759</td>\n",
       "      <td>0.542594</td>\n",
       "      <td>0.082526</td>\n",
       "      <td>0.002468</td>\n",
       "      <td>0.001095</td>\n",
       "      <td>0.000131</td>\n",
       "      <td>0.000163</td>\n",
       "      <td>0.000601</td>\n",
       "    </tr>\n",
       "    <tr>\n",
       "      <th>1</th>\n",
       "      <td>0</td>\n",
       "      <td>1</td>\n",
       "      <td>A New Machine (Part 1)</td>\n",
       "      <td>A Momentary Lapse of Reason</td>\n",
       "      <td>-2</td>\n",
       "      <td>135.759918</td>\n",
       "      <td>5</td>\n",
       "      <td>219</td>\n",
       "      <td>0.031082</td>\n",
       "      <td>0.026377</td>\n",
       "      <td>...</td>\n",
       "      <td>0.005635</td>\n",
       "      <td>0.355759</td>\n",
       "      <td>0.542594</td>\n",
       "      <td>0.082526</td>\n",
       "      <td>0.002468</td>\n",
       "      <td>0.001095</td>\n",
       "      <td>0.000131</td>\n",
       "      <td>0.000163</td>\n",
       "      <td>0.000601</td>\n",
       "      <td>0.000885</td>\n",
       "    </tr>\n",
       "    <tr>\n",
       "      <th>2</th>\n",
       "      <td>0</td>\n",
       "      <td>1</td>\n",
       "      <td>A New Machine (Part 1)</td>\n",
       "      <td>A Momentary Lapse of Reason</td>\n",
       "      <td>0</td>\n",
       "      <td>135.759918</td>\n",
       "      <td>0</td>\n",
       "      <td>219</td>\n",
       "      <td>0.009655</td>\n",
       "      <td>0.015184</td>\n",
       "      <td>...</td>\n",
       "      <td>0.000108</td>\n",
       "      <td>0.000060</td>\n",
       "      <td>0.005635</td>\n",
       "      <td>0.355759</td>\n",
       "      <td>0.542594</td>\n",
       "      <td>0.082526</td>\n",
       "      <td>0.002468</td>\n",
       "      <td>0.001095</td>\n",
       "      <td>0.000131</td>\n",
       "      <td>0.000163</td>\n",
       "    </tr>\n",
       "    <tr>\n",
       "      <th>3</th>\n",
       "      <td>0</td>\n",
       "      <td>1</td>\n",
       "      <td>A New Machine (Part 1)</td>\n",
       "      <td>A Momentary Lapse of Reason</td>\n",
       "      <td>1</td>\n",
       "      <td>135.759918</td>\n",
       "      <td>0</td>\n",
       "      <td>219</td>\n",
       "      <td>0.009816</td>\n",
       "      <td>0.009655</td>\n",
       "      <td>...</td>\n",
       "      <td>0.001509</td>\n",
       "      <td>0.000108</td>\n",
       "      <td>0.000060</td>\n",
       "      <td>0.005635</td>\n",
       "      <td>0.355759</td>\n",
       "      <td>0.542594</td>\n",
       "      <td>0.082526</td>\n",
       "      <td>0.002468</td>\n",
       "      <td>0.001095</td>\n",
       "      <td>0.000131</td>\n",
       "    </tr>\n",
       "    <tr>\n",
       "      <th>4</th>\n",
       "      <td>0</td>\n",
       "      <td>1</td>\n",
       "      <td>A New Machine (Part 1)</td>\n",
       "      <td>A Momentary Lapse of Reason</td>\n",
       "      <td>2</td>\n",
       "      <td>135.759918</td>\n",
       "      <td>0</td>\n",
       "      <td>219</td>\n",
       "      <td>0.008938</td>\n",
       "      <td>0.009816</td>\n",
       "      <td>...</td>\n",
       "      <td>0.031911</td>\n",
       "      <td>0.001509</td>\n",
       "      <td>0.000108</td>\n",
       "      <td>0.000060</td>\n",
       "      <td>0.005635</td>\n",
       "      <td>0.355759</td>\n",
       "      <td>0.542594</td>\n",
       "      <td>0.082526</td>\n",
       "      <td>0.002468</td>\n",
       "      <td>0.001095</td>\n",
       "    </tr>\n",
       "  </tbody>\n",
       "</table>\n",
       "<p>5 rows × 116 columns</p>\n",
       "</div>"
      ],
      "text/plain": [
       "   major  minor                   title                        album  \\\n",
       "0      0      1  A New Machine (Part 1)  A Momentary Lapse of Reason   \n",
       "1      0      1  A New Machine (Part 1)  A Momentary Lapse of Reason   \n",
       "2      0      1  A New Machine (Part 1)  A Momentary Lapse of Reason   \n",
       "3      0      1  A New Machine (Part 1)  A Momentary Lapse of Reason   \n",
       "4      0      1  A New Machine (Part 1)  A Momentary Lapse of Reason   \n",
       "\n",
       "   semitone_offset         bpm  key  total_beats  semitone_amean_0  \\\n",
       "0               -1  135.759918    5          219          0.015184   \n",
       "1               -2  135.759918    5          219          0.031082   \n",
       "2                0  135.759918    0          219          0.009655   \n",
       "3                1  135.759918    0          219          0.009816   \n",
       "4                2  135.759918    0          219          0.008938   \n",
       "\n",
       "   semitone_amean_1  ...  semitone_median_26  semitone_median_27  \\\n",
       "0          0.031082  ...            0.000060            0.005635   \n",
       "1          0.026377  ...            0.005635            0.355759   \n",
       "2          0.015184  ...            0.000108            0.000060   \n",
       "3          0.009655  ...            0.001509            0.000108   \n",
       "4          0.009816  ...            0.031911            0.001509   \n",
       "\n",
       "   semitone_median_28  semitone_median_29  semitone_median_30  \\\n",
       "0            0.355759            0.542594            0.082526   \n",
       "1            0.542594            0.082526            0.002468   \n",
       "2            0.005635            0.355759            0.542594   \n",
       "3            0.000060            0.005635            0.355759   \n",
       "4            0.000108            0.000060            0.005635   \n",
       "\n",
       "   semitone_median_31  semitone_median_32  semitone_median_33  \\\n",
       "0            0.002468            0.001095            0.000131   \n",
       "1            0.001095            0.000131            0.000163   \n",
       "2            0.082526            0.002468            0.001095   \n",
       "3            0.542594            0.082526            0.002468   \n",
       "4            0.355759            0.542594            0.082526   \n",
       "\n",
       "   semitone_median_34  semitone_median_35  \n",
       "0            0.000163            0.000601  \n",
       "1            0.000601            0.000885  \n",
       "2            0.000131            0.000163  \n",
       "3            0.001095            0.000131  \n",
       "4            0.002468            0.001095  \n",
       "\n",
       "[5 rows x 116 columns]"
      ]
     },
     "execution_count": 39,
     "metadata": {},
     "output_type": "execute_result"
    }
   ],
   "source": [
    "all_songs = (pd.get_dummies(all_songs['scale'])\n",
    "                     .merge(all_songs, left_index=True, right_index=True)\n",
    "                     .drop(['scale', 'filepath'], axis=1))\n",
    "\n",
    "val_df = (pd.get_dummies(val_df['scale'])\n",
    "                     .merge(val_df, left_index=True, right_index=True)\n",
    "                     .drop(['scale', 'filepath'], axis=1))\n",
    "\n",
    "test_df = (pd.get_dummies(test_df['scale'])\n",
    "                     .merge(test_df, left_index=True, right_index=True)\n",
    "                     .drop(['scale', 'filepath'], axis=1))\n",
    "\n",
    "all_songs.head()"
   ]
  },
  {
   "cell_type": "code",
   "execution_count": 40,
   "metadata": {},
   "outputs": [],
   "source": [
    "all_songs['unique_id'] = (all_songs['title'] + '_'\n",
    "                                    + all_songs['album'] + '_'\n",
    "                                    + str(all_songs['semitone_offset']))\n",
    "\n",
    "val_df['unique_id'] = (val_df['title'] + '_'\n",
    "                                    + val_df['album'] + '_'\n",
    "                                    + str(val_df['semitone_offset']))\n",
    "\n",
    "test_df['unique_id'] = (test_df['title'] + '_'\n",
    "                                    + test_df['album'] + '_'\n",
    "                                    + str(test_df['semitone_offset']))"
   ]
  },
  {
   "cell_type": "code",
   "execution_count": 41,
   "metadata": {},
   "outputs": [],
   "source": [
    "# Save all_songs for Flask\n",
    "with open('all_songs.pkl', 'wb') as f:\n",
    "    pickle.dump(all_songs, f)\n",
    "    f.close()"
   ]
  },
  {
   "cell_type": "code",
   "execution_count": 42,
   "metadata": {
    "scrolled": false
   },
   "outputs": [
    {
     "name": "stdout",
     "output_type": "stream",
     "text": [
      "['major', 'minor', 'bpm', 'key', 'total_beats']\n"
     ]
    }
   ],
   "source": [
    "columns = list(all_songs.columns)\n",
    "target_cols = ['title', 'album', 'semitone_offset', 'unique_id']\n",
    "\n",
    "features = columns.copy()\n",
    "for col_name in target_cols:\n",
    "    features.remove(col_name)\n",
    "    \n",
    "print(features[:5])"
   ]
  },
  {
   "cell_type": "code",
   "execution_count": 43,
   "metadata": {},
   "outputs": [],
   "source": [
    "# Save features for Flask\n",
    "with open('features_list.pkl', 'wb') as f:\n",
    "    pickle.dump(features, f)\n",
    "    f.close()"
   ]
  },
  {
   "cell_type": "markdown",
   "metadata": {},
   "source": [
    "# Modeling!"
   ]
  },
  {
   "cell_type": "code",
   "execution_count": 44,
   "metadata": {},
   "outputs": [],
   "source": [
    "scaler = StandardScaler()"
   ]
  },
  {
   "cell_type": "code",
   "execution_count": 45,
   "metadata": {},
   "outputs": [],
   "source": [
    "X_train = all_songs[features]\n",
    "scaler.fit_transform(X_train)\n",
    "y_train = all_songs['title']"
   ]
  },
  {
   "cell_type": "code",
   "execution_count": 46,
   "metadata": {},
   "outputs": [],
   "source": [
    "# Save scaler for transforming Flask queries\n",
    "with open('scaler.pkl', 'wb') as f:\n",
    "    pickle.dump(scaler, f)\n",
    "    f.close()"
   ]
  },
  {
   "cell_type": "code",
   "execution_count": 47,
   "metadata": {},
   "outputs": [],
   "source": [
    "X_val = val_df[features]\n",
    "scaler.transform(X_val)\n",
    "y_val = val_df['title']"
   ]
  },
  {
   "cell_type": "code",
   "execution_count": 48,
   "metadata": {},
   "outputs": [],
   "source": [
    "X_test = test_df[features]\n",
    "scaler.transform(X_test)\n",
    "y_test = test_df['title']"
   ]
  },
  {
   "cell_type": "markdown",
   "metadata": {},
   "source": [
    "## Logistic Regression"
   ]
  },
  {
   "cell_type": "code",
   "execution_count": null,
   "metadata": {},
   "outputs": [
    {
     "name": "stderr",
     "output_type": "stream",
     "text": [
      "/home/bam/anaconda3/lib/python3.7/site-packages/sklearn/linear_model/logistic.py:947: ConvergenceWarning: lbfgs failed to converge. Increase the number of iterations.\n",
      "  \"of iterations.\", ConvergenceWarning)\n",
      "/home/bam/anaconda3/lib/python3.7/site-packages/sklearn/linear_model/logistic.py:947: ConvergenceWarning: lbfgs failed to converge. Increase the number of iterations.\n",
      "  \"of iterations.\", ConvergenceWarning)\n",
      "/home/bam/anaconda3/lib/python3.7/site-packages/sklearn/linear_model/logistic.py:947: ConvergenceWarning: lbfgs failed to converge. Increase the number of iterations.\n",
      "  \"of iterations.\", ConvergenceWarning)\n",
      "/home/bam/anaconda3/lib/python3.7/site-packages/sklearn/linear_model/logistic.py:947: ConvergenceWarning: lbfgs failed to converge. Increase the number of iterations.\n",
      "  \"of iterations.\", ConvergenceWarning)\n",
      "/home/bam/anaconda3/lib/python3.7/site-packages/sklearn/linear_model/logistic.py:947: ConvergenceWarning: lbfgs failed to converge. Increase the number of iterations.\n",
      "  \"of iterations.\", ConvergenceWarning)\n",
      "/home/bam/anaconda3/lib/python3.7/site-packages/sklearn/linear_model/logistic.py:947: ConvergenceWarning: lbfgs failed to converge. Increase the number of iterations.\n",
      "  \"of iterations.\", ConvergenceWarning)\n",
      "/home/bam/anaconda3/lib/python3.7/site-packages/sklearn/linear_model/logistic.py:947: ConvergenceWarning: lbfgs failed to converge. Increase the number of iterations.\n",
      "  \"of iterations.\", ConvergenceWarning)\n",
      "/home/bam/anaconda3/lib/python3.7/site-packages/sklearn/linear_model/logistic.py:947: ConvergenceWarning: lbfgs failed to converge. Increase the number of iterations.\n",
      "  \"of iterations.\", ConvergenceWarning)\n",
      "/home/bam/anaconda3/lib/python3.7/site-packages/sklearn/linear_model/logistic.py:947: ConvergenceWarning: lbfgs failed to converge. Increase the number of iterations.\n",
      "  \"of iterations.\", ConvergenceWarning)\n",
      "/home/bam/anaconda3/lib/python3.7/site-packages/sklearn/linear_model/logistic.py:947: ConvergenceWarning: lbfgs failed to converge. Increase the number of iterations.\n",
      "  \"of iterations.\", ConvergenceWarning)\n",
      "/home/bam/anaconda3/lib/python3.7/site-packages/sklearn/linear_model/logistic.py:947: ConvergenceWarning: lbfgs failed to converge. Increase the number of iterations.\n",
      "  \"of iterations.\", ConvergenceWarning)\n",
      "/home/bam/anaconda3/lib/python3.7/site-packages/sklearn/linear_model/logistic.py:947: ConvergenceWarning: lbfgs failed to converge. Increase the number of iterations.\n",
      "  \"of iterations.\", ConvergenceWarning)\n",
      "/home/bam/anaconda3/lib/python3.7/site-packages/sklearn/linear_model/logistic.py:947: ConvergenceWarning: lbfgs failed to converge. Increase the number of iterations.\n",
      "  \"of iterations.\", ConvergenceWarning)\n",
      "/home/bam/anaconda3/lib/python3.7/site-packages/sklearn/linear_model/logistic.py:947: ConvergenceWarning: lbfgs failed to converge. Increase the number of iterations.\n",
      "  \"of iterations.\", ConvergenceWarning)\n",
      "/home/bam/anaconda3/lib/python3.7/site-packages/sklearn/linear_model/logistic.py:947: ConvergenceWarning: lbfgs failed to converge. Increase the number of iterations.\n",
      "  \"of iterations.\", ConvergenceWarning)\n",
      "/home/bam/anaconda3/lib/python3.7/site-packages/sklearn/linear_model/logistic.py:947: ConvergenceWarning: lbfgs failed to converge. Increase the number of iterations.\n",
      "  \"of iterations.\", ConvergenceWarning)\n",
      "/home/bam/anaconda3/lib/python3.7/site-packages/sklearn/linear_model/logistic.py:947: ConvergenceWarning: lbfgs failed to converge. Increase the number of iterations.\n",
      "  \"of iterations.\", ConvergenceWarning)\n",
      "/home/bam/anaconda3/lib/python3.7/site-packages/sklearn/linear_model/logistic.py:947: ConvergenceWarning: lbfgs failed to converge. Increase the number of iterations.\n",
      "  \"of iterations.\", ConvergenceWarning)\n"
     ]
    }
   ],
   "source": [
    "C_to_val_score = []\n",
    "for cand_C in np.linspace(1, 20, 20):\n",
    "    lr = LogisticRegression(C=cand_C, solver='lbfgs', multi_class='multinomial', max_iter=20000)\n",
    "    lr.fit(X_train, y_train)\n",
    "    f1 = f1_score(y_val, lr.predict(X_val), average='micro')\n",
    "    C_to_val_score.append((cand_C, f1))"
   ]
  },
  {
   "cell_type": "code",
   "execution_count": null,
   "metadata": {
    "scrolled": false
   },
   "outputs": [],
   "source": [
    "Cs, f1s = zip(*C_to_val_score)\n",
    "\n",
    "plt.plot(Cs, f1s, color='blue');"
   ]
  },
  {
   "cell_type": "markdown",
   "metadata": {},
   "source": [
    "### Select C = 10"
   ]
  },
  {
   "cell_type": "code",
   "execution_count": 49,
   "metadata": {},
   "outputs": [],
   "source": [
    "lr_params = {'C': 10,\n",
    "            'solver': 'lbfgs',\n",
    "            'multi_class': 'multinomial'}"
   ]
  },
  {
   "cell_type": "code",
   "execution_count": 63,
   "metadata": {},
   "outputs": [
    {
     "name": "stderr",
     "output_type": "stream",
     "text": [
      "/home/bam/anaconda3/lib/python3.7/site-packages/sklearn/linear_model/logistic.py:947: ConvergenceWarning: lbfgs failed to converge. Increase the number of iterations.\n",
      "  \"of iterations.\", ConvergenceWarning)\n",
      "/home/bam/anaconda3/lib/python3.7/site-packages/sklearn/linear_model/logistic.py:947: ConvergenceWarning: lbfgs failed to converge. Increase the number of iterations.\n",
      "  \"of iterations.\", ConvergenceWarning)\n",
      "/home/bam/anaconda3/lib/python3.7/site-packages/sklearn/linear_model/logistic.py:947: ConvergenceWarning: lbfgs failed to converge. Increase the number of iterations.\n",
      "  \"of iterations.\", ConvergenceWarning)\n",
      "/home/bam/anaconda3/lib/python3.7/site-packages/sklearn/linear_model/logistic.py:947: ConvergenceWarning: lbfgs failed to converge. Increase the number of iterations.\n",
      "  \"of iterations.\", ConvergenceWarning)\n",
      "/home/bam/anaconda3/lib/python3.7/site-packages/sklearn/linear_model/logistic.py:947: ConvergenceWarning: lbfgs failed to converge. Increase the number of iterations.\n",
      "  \"of iterations.\", ConvergenceWarning)\n",
      "/home/bam/anaconda3/lib/python3.7/site-packages/sklearn/linear_model/logistic.py:947: ConvergenceWarning: lbfgs failed to converge. Increase the number of iterations.\n",
      "  \"of iterations.\", ConvergenceWarning)\n",
      "/home/bam/anaconda3/lib/python3.7/site-packages/sklearn/linear_model/logistic.py:947: ConvergenceWarning: lbfgs failed to converge. Increase the number of iterations.\n",
      "  \"of iterations.\", ConvergenceWarning)\n",
      "/home/bam/anaconda3/lib/python3.7/site-packages/sklearn/linear_model/logistic.py:947: ConvergenceWarning: lbfgs failed to converge. Increase the number of iterations.\n",
      "  \"of iterations.\", ConvergenceWarning)\n",
      "/home/bam/anaconda3/lib/python3.7/site-packages/sklearn/linear_model/logistic.py:947: ConvergenceWarning: lbfgs failed to converge. Increase the number of iterations.\n",
      "  \"of iterations.\", ConvergenceWarning)\n",
      "/home/bam/anaconda3/lib/python3.7/site-packages/sklearn/linear_model/logistic.py:947: ConvergenceWarning: lbfgs failed to converge. Increase the number of iterations.\n",
      "  \"of iterations.\", ConvergenceWarning)\n"
     ]
    }
   ],
   "source": [
    "iters_to_val = []\n",
    "\n",
    "for cand_iter in np.geomspace(100, 100000, 10):\n",
    "    lr = LogisticRegression(max_iter=cand_iter, **lr_params)\n",
    "    lr.fit(X_train, y_train)\n",
    "    f1 = f1_score(y_val, lr.predict(X_val), average='micro')\n",
    "    iters_to_val.append((cand_iter, f1))"
   ]
  },
  {
   "cell_type": "code",
   "execution_count": 64,
   "metadata": {},
   "outputs": [
    {
     "data": {
      "image/png": "[encoded data removed]",
      "text/plain": [
       "<Figure size 1008x360 with 1 Axes>"
      ]
     },
     "metadata": {
      "needs_background": "light"
     },
     "output_type": "display_data"
    }
   ],
   "source": [
    "iters, f1s = zip(*iters_to_val)\n",
    "\n",
    "plt.plot(iters, f1s, color='blue');"
   ]
  },
  {
   "cell_type": "markdown",
   "metadata": {},
   "source": [
    "### Set max_iters = 15000"
   ]
  },
  {
   "cell_type": "code",
   "execution_count": 50,
   "metadata": {},
   "outputs": [],
   "source": [
    "lr_params['max_iter'] = 15000"
   ]
  },
  {
   "cell_type": "code",
   "execution_count": 51,
   "metadata": {},
   "outputs": [
    {
     "name": "stdout",
     "output_type": "stream",
     "text": [
      "F1_train: 1.0\n",
      "F1_val: 0.2713178294573643\n"
     ]
    },
    {
     "name": "stderr",
     "output_type": "stream",
     "text": [
      "/home/bam/anaconda3/lib/python3.7/site-packages/sklearn/linear_model/logistic.py:947: ConvergenceWarning: lbfgs failed to converge. Increase the number of iterations.\n",
      "  \"of iterations.\", ConvergenceWarning)\n"
     ]
    }
   ],
   "source": [
    "lr = LogisticRegression(**lr_params)\n",
    "lr.fit(X_train, y_train)\n",
    "\n",
    "print('F1_train:', f1_score(y_train, lr.predict(X_train), average='micro'))\n",
    "print('F1_val:', f1_score(y_val, lr.predict(X_val), average='micro'))"
   ]
  },
  {
   "cell_type": "markdown",
   "metadata": {},
   "source": [
    "# LR with C=10, max_iter=15000"
   ]
  },
  {
   "cell_type": "code",
   "execution_count": 82,
   "metadata": {},
   "outputs": [
    {
     "name": "stderr",
     "output_type": "stream",
     "text": [
      "/home/bam/anaconda3/lib/python3.7/site-packages/sklearn/linear_model/logistic.py:432: FutureWarning: Default solver will be changed to 'lbfgs' in 0.22. Specify a solver to silence this warning.\n",
      "  FutureWarning)\n",
      "/home/bam/anaconda3/lib/python3.7/site-packages/sklearn/linear_model/logistic.py:469: FutureWarning: Default multi_class will be changed to 'auto' in 0.22. Specify the multi_class option to silence this warning.\n",
      "  \"this warning.\", FutureWarning)\n"
     ]
    },
    {
     "name": "stdout",
     "output_type": "stream",
     "text": [
      "Train F1: 0.9924242424242424\n",
      "Val F1: 0.4728682170542635\n"
     ]
    }
   ],
   "source": [
    "lr = LogisticRegression(C=10, max_iter=15000)\n",
    "lr.fit(X_train, y_train)\n",
    "\n",
    "print('Train F1:', lr.score(X_train, y_train))\n",
    "print('Val F1:', f1_score(y_val, lr.predict(X_val), average='micro'))"
   ]
  },
  {
   "cell_type": "code",
   "execution_count": 83,
   "metadata": {},
   "outputs": [
    {
     "name": "stdout",
     "output_type": "stream",
     "text": [
      "Test F1 score is: 0.392\n"
     ]
    }
   ],
   "source": [
    "print('Test F1 score is: {0:.3f}'.format(f1_score(y_test, lr.predict(X_test), average='micro')))"
   ]
  },
  {
   "cell_type": "markdown",
   "metadata": {},
   "source": [
    "# Save model for use in Flask"
   ]
  },
  {
   "cell_type": "code",
   "execution_count": 54,
   "metadata": {},
   "outputs": [
    {
     "data": {
      "text/plain": [
       "'/home/bam/metis/projects/project_3/flask'"
      ]
     },
     "execution_count": 54,
     "metadata": {},
     "output_type": "execute_result"
    }
   ],
   "source": [
    "os.chdir('../flask')\n",
    "os.getcwd()"
   ]
  },
  {
   "cell_type": "code",
   "execution_count": 55,
   "metadata": {},
   "outputs": [],
   "source": [
    "with open('lr.pkl', 'wb') as f:\n",
    "    pickle.dump(lr, f)\n",
    "    f.close()"
   ]
  },
  {
   "cell_type": "markdown",
   "metadata": {},
   "source": [
    "# Get single-file identification working"
   ]
  },
  {
   "cell_type": "code",
   "execution_count": 57,
   "metadata": {},
   "outputs": [],
   "source": [
    "def one_song_df(filepath):\n",
    "    \"\"\"Generates a 1-row DataFrame for single-song classification\"\"\"\n",
    "    \n",
    "    one_song_dict = dict()\n",
    "    filename = filepath.split(sep='/')[-1]\n",
    "    song_stats = song_dict(filepath)\n",
    "    one_song_dict[filename[:-4]] = song_stats\n",
    "    one_song_dict['dummy'] = song_stats\n",
    "    \n",
    "    one_df = pd.DataFrame.from_dict(one_song_dict, orient='index').drop('dummy')\n",
    "    \n",
    "    one_df['key'] = one_df['key'].map(key_dict)\n",
    "    one_df = (pd.get_dummies(one_df['scale'])\n",
    "                     .merge(one_df, left_index=True, right_index=True)\n",
    "                     .drop(['scale', 'filepath'], axis=1))\n",
    "    \n",
    "    if 'minor' not in one_df.columns:\n",
    "        one_df['minor'] = 0\n",
    "    elif 'major' not in one_df.columns:\n",
    "        one_df['major'] = 0\n",
    "        \n",
    "    one_df['unique_id'] = (one_df['title'] + '_'\n",
    "                                    + one_df['album'] + '_'\n",
    "                                    + str(one_df['semitone_offset']))\n",
    "    \n",
    "    return one_df"
   ]
  },
  {
   "cell_type": "code",
   "execution_count": 59,
   "metadata": {},
   "outputs": [],
   "source": [
    "def predict_one(one_df):\n",
    "    \"\"\"Classifies a single live recording\"\"\"\n",
    "    \n",
    "    row = one_df.loc[one_df.index[0]]\n",
    "    X_one = row[features]\n",
    "    scaler.transform(np.array(X_one).reshape(1, -1))\n",
    "    return lr.predict(np.array(X_one).reshape(1, -1))[0]"
   ]
  },
  {
   "cell_type": "code",
   "execution_count": 60,
   "metadata": {},
   "outputs": [],
   "source": [
    "def album_name(song_name):\n",
    "    \"\"\"Gives album name of a studio track\"\"\"\n",
    "    return all_songs[all_songs['title'] == song_name].album.values[0]"
   ]
  },
  {
   "cell_type": "markdown",
   "metadata": {},
   "source": [
    "# Generate visuals\n",
    "For presentation, won't work unless you setup folder structure as here"
   ]
  },
  {
   "cell_type": "code",
   "execution_count": 71,
   "metadata": {},
   "outputs": [
    {
     "name": "stdout",
     "output_type": "stream",
     "text": [
      "BPM: 120.70642852783203\n",
      "Key: A\n",
      "Scale: major\n"
     ]
    },
    {
     "data": {
      "image/png": "[encoded data removed]",
      "text/plain": [
       "<Figure size 1008x360 with 1 Axes>"
      ]
     },
     "metadata": {},
     "output_type": "display_data"
    }
   ],
   "source": [
    "album_stats = song_dict('/home/bam/Music/Pink Floyd/Studio/1973 - The Dark Side Of The Moon/Pink Floyd - The Dark Side Of The Moon - 03 - Time.mp3', save_hpcp=True)\n",
    "show_stats(album_stats)"
   ]
  },
  {
   "cell_type": "code",
   "execution_count": 73,
   "metadata": {},
   "outputs": [
    {
     "name": "stdout",
     "output_type": "stream",
     "text": [
      "BPM: 126.52445220947266\n",
      "Key: A\n",
      "Scale: major\n"
     ]
    },
    {
     "data": {
      "image/png": "[encoded data removed]",
      "text/plain": [
       "<Figure size 1008x360 with 1 Axes>"
      ]
     },
     "metadata": {},
     "output_type": "display_data"
    }
   ],
   "source": [
    "live_stats = song_dict('/home/bam/Music/Pink Floyd/Live/1995 - Pulse (Live)/Pink Floyd - Pulse - 04 - Time.mp3', save_hpcp=True)\n",
    "show_stats(live_stats)"
   ]
  },
  {
   "cell_type": "code",
   "execution_count": 74,
   "metadata": {},
   "outputs": [],
   "source": [
    "time_stats = song_dict('/home/bam/Music/Pink Floyd/Studio/1973 - The Dark Side Of The Moon/Pink Floyd - The Dark Side Of The Moon - 03 - Time.mp3', save_hpcp=True)"
   ]
  },
  {
   "cell_type": "code",
   "execution_count": 75,
   "metadata": {},
   "outputs": [
    {
     "data": {
      "image/png": "[encoded data removed]",
      "text/plain": [
       "<Figure size 1008x360 with 1 Axes>"
      ]
     },
     "metadata": {},
     "output_type": "display_data"
    }
   ],
   "source": [
    "imshow(time_stats['hpcp'][:200, :].T, aspect='auto', origin='lower', interpolation='none', cmap='viridis')\n",
    "plt.ylabel('Semitone')\n",
    "plt.xlabel('Beat Number')\n",
    "plt.title('Harmonic Pitch Class Profile\\n(y==0 corresponds to the note A flat)')\n",
    "plt.grid(b=None)\n",
    "plt.show();"
   ]
  },
  {
   "cell_type": "code",
   "execution_count": null,
   "metadata": {},
   "outputs": [],
   "source": []
  }
 ],
 "metadata": {
  "kernelspec": {
   "display_name": "Python 3",
   "language": "python",
   "name": "python3"
  },
  "language_info": {
   "codemirror_mode": {
    "name": "ipython",
    "version": 3
   },
   "file_extension": ".py",
   "mimetype": "text/x-python",
   "name": "python",
   "nbconvert_exporter": "python",
   "pygments_lexer": "ipython3",
   "version": "3.7.2"
  }
 },
 "nbformat": 4,
 "nbformat_minor": 2
}
